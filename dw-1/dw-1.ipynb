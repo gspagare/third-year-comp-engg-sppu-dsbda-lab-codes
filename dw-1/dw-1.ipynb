{
 "cells": [
  {
   "cell_type": "markdown",
   "metadata": {},
   "source": [
    "\n",
    "(Data Preprocessing)\n",
    "\n",
    "1. Missing values\n",
    "2. Handling Duplicates (it has to be done when genere must have unique values)\n",
    "3. Type Casting\n",
    "4. Zero variance\n",
    "5. Discretizatation/binning/grouping\n",
    "6. Outlier treatment\n",
    "7. Dummy Variable creation\n",
    "8. Normazlization\n",
    "\n",
    "\n",
    "(Data Wrangling I)\n",
    "1. df.isnull().sum()\n",
    "2. df.describe()\n",
    "3. df.shape\n",
    "4. df.dftypes\n",
    "5. typycasting\n",
    "6. Drop unwanted column eg. df.drop('Province/State', axis=1, inplace=True)\n",
    "\n"
   ]
  },
  {
   "cell_type": "code",
   "execution_count": 43,
   "metadata": {},
   "outputs": [],
   "source": [
    "import pandas as pd\n",
    "import numpy as np\n",
    "import seaborn as sns\n",
    "import seaborn as sns"
   ]
  },
  {
   "cell_type": "code",
   "execution_count": null,
   "metadata": {},
   "outputs": [],
   "source": []
  },
  {
   "cell_type": "code",
   "execution_count": 3,
   "metadata": {},
   "outputs": [
    {
     "data": {
      "text/html": [
       "<div>\n",
       "<style scoped>\n",
       "    .dataframe tbody tr th:only-of-type {\n",
       "        vertical-align: middle;\n",
       "    }\n",
       "\n",
       "    .dataframe tbody tr th {\n",
       "        vertical-align: top;\n",
       "    }\n",
       "\n",
       "    .dataframe thead th {\n",
       "        text-align: right;\n",
       "    }\n",
       "</style>\n",
       "<table border=\"1\" class=\"dataframe\">\n",
       "  <thead>\n",
       "    <tr style=\"text-align: right;\">\n",
       "      <th></th>\n",
       "      <th>Province/State</th>\n",
       "      <th>Country/Region</th>\n",
       "      <th>Lat</th>\n",
       "      <th>Long</th>\n",
       "      <th>Date</th>\n",
       "      <th>Confirmed</th>\n",
       "      <th>Deaths</th>\n",
       "      <th>Recovered</th>\n",
       "      <th>Active</th>\n",
       "      <th>WHO Region</th>\n",
       "    </tr>\n",
       "  </thead>\n",
       "  <tbody>\n",
       "    <tr>\n",
       "      <th>0</th>\n",
       "      <td>NaN</td>\n",
       "      <td>Afghanistan</td>\n",
       "      <td>33.93911</td>\n",
       "      <td>67.709953</td>\n",
       "      <td>2020-01-22</td>\n",
       "      <td>0</td>\n",
       "      <td>0</td>\n",
       "      <td>0</td>\n",
       "      <td>0</td>\n",
       "      <td>Eastern Mediterranean</td>\n",
       "    </tr>\n",
       "    <tr>\n",
       "      <th>1</th>\n",
       "      <td>NaN</td>\n",
       "      <td>Albania</td>\n",
       "      <td>41.15330</td>\n",
       "      <td>20.168300</td>\n",
       "      <td>2020-01-22</td>\n",
       "      <td>0</td>\n",
       "      <td>0</td>\n",
       "      <td>0</td>\n",
       "      <td>0</td>\n",
       "      <td>Europe</td>\n",
       "    </tr>\n",
       "    <tr>\n",
       "      <th>2</th>\n",
       "      <td>NaN</td>\n",
       "      <td>Algeria</td>\n",
       "      <td>28.03390</td>\n",
       "      <td>1.659600</td>\n",
       "      <td>2020-01-22</td>\n",
       "      <td>0</td>\n",
       "      <td>0</td>\n",
       "      <td>0</td>\n",
       "      <td>0</td>\n",
       "      <td>Africa</td>\n",
       "    </tr>\n",
       "    <tr>\n",
       "      <th>3</th>\n",
       "      <td>NaN</td>\n",
       "      <td>Andorra</td>\n",
       "      <td>42.50630</td>\n",
       "      <td>1.521800</td>\n",
       "      <td>2020-01-22</td>\n",
       "      <td>0</td>\n",
       "      <td>0</td>\n",
       "      <td>0</td>\n",
       "      <td>0</td>\n",
       "      <td>Europe</td>\n",
       "    </tr>\n",
       "    <tr>\n",
       "      <th>4</th>\n",
       "      <td>NaN</td>\n",
       "      <td>Angola</td>\n",
       "      <td>-11.20270</td>\n",
       "      <td>17.873900</td>\n",
       "      <td>2020-01-22</td>\n",
       "      <td>0</td>\n",
       "      <td>0</td>\n",
       "      <td>0</td>\n",
       "      <td>0</td>\n",
       "      <td>Africa</td>\n",
       "    </tr>\n",
       "  </tbody>\n",
       "</table>\n",
       "</div>"
      ],
      "text/plain": [
       "  Province/State Country/Region       Lat       Long        Date  Confirmed   \n",
       "0            NaN    Afghanistan  33.93911  67.709953  2020-01-22          0  \\\n",
       "1            NaN        Albania  41.15330  20.168300  2020-01-22          0   \n",
       "2            NaN        Algeria  28.03390   1.659600  2020-01-22          0   \n",
       "3            NaN        Andorra  42.50630   1.521800  2020-01-22          0   \n",
       "4            NaN         Angola -11.20270  17.873900  2020-01-22          0   \n",
       "\n",
       "   Deaths  Recovered  Active             WHO Region  \n",
       "0       0          0       0  Eastern Mediterranean  \n",
       "1       0          0       0                 Europe  \n",
       "2       0          0       0                 Africa  \n",
       "3       0          0       0                 Europe  \n",
       "4       0          0       0                 Africa  "
      ]
     },
     "execution_count": 3,
     "metadata": {},
     "output_type": "execute_result"
    }
   ],
   "source": [
    "df = pd.read_csv('covid_19_clean_complete_2022.csv')\n",
    "df.head(5)"
   ]
  },
  {
   "cell_type": "code",
   "execution_count": 3,
   "metadata": {},
   "outputs": [
    {
     "data": {
      "text/html": [
       "<div>\n",
       "<style scoped>\n",
       "    .dataframe tbody tr th:only-of-type {\n",
       "        vertical-align: middle;\n",
       "    }\n",
       "\n",
       "    .dataframe tbody tr th {\n",
       "        vertical-align: top;\n",
       "    }\n",
       "\n",
       "    .dataframe thead th {\n",
       "        text-align: right;\n",
       "    }\n",
       "</style>\n",
       "<table border=\"1\" class=\"dataframe\">\n",
       "  <thead>\n",
       "    <tr style=\"text-align: right;\">\n",
       "      <th></th>\n",
       "      <th>Lat</th>\n",
       "      <th>Long</th>\n",
       "      <th>Confirmed</th>\n",
       "      <th>Deaths</th>\n",
       "      <th>Recovered</th>\n",
       "      <th>Active</th>\n",
       "    </tr>\n",
       "  </thead>\n",
       "  <tbody>\n",
       "    <tr>\n",
       "      <th>count</th>\n",
       "      <td>213348.000000</td>\n",
       "      <td>213348.000000</td>\n",
       "      <td>2.148940e+05</td>\n",
       "      <td>214894.000000</td>\n",
       "      <td>2.148940e+05</td>\n",
       "      <td>2.148940e+05</td>\n",
       "    </tr>\n",
       "    <tr>\n",
       "      <th>mean</th>\n",
       "      <td>20.528131</td>\n",
       "      <td>22.735337</td>\n",
       "      <td>4.578132e+05</td>\n",
       "      <td>9310.764693</td>\n",
       "      <td>1.079987e+05</td>\n",
       "      <td>3.405037e+05</td>\n",
       "    </tr>\n",
       "    <tr>\n",
       "      <th>std</th>\n",
       "      <td>25.899139</td>\n",
       "      <td>76.304185</td>\n",
       "      <td>2.708770e+06</td>\n",
       "      <td>47497.835275</td>\n",
       "      <td>8.470111e+05</td>\n",
       "      <td>2.516382e+06</td>\n",
       "    </tr>\n",
       "    <tr>\n",
       "      <th>min</th>\n",
       "      <td>-71.949900</td>\n",
       "      <td>-178.116500</td>\n",
       "      <td>0.000000e+00</td>\n",
       "      <td>0.000000</td>\n",
       "      <td>0.000000e+00</td>\n",
       "      <td>-1.638280e+05</td>\n",
       "    </tr>\n",
       "    <tr>\n",
       "      <th>25%</th>\n",
       "      <td>6.426991</td>\n",
       "      <td>-27.932425</td>\n",
       "      <td>2.530000e+02</td>\n",
       "      <td>2.000000</td>\n",
       "      <td>0.000000e+00</td>\n",
       "      <td>1.600000e+01</td>\n",
       "    </tr>\n",
       "    <tr>\n",
       "      <th>50%</th>\n",
       "      <td>22.233350</td>\n",
       "      <td>21.752000</td>\n",
       "      <td>5.223000e+03</td>\n",
       "      <td>71.000000</td>\n",
       "      <td>4.500000e+01</td>\n",
       "      <td>1.243000e+03</td>\n",
       "    </tr>\n",
       "    <tr>\n",
       "      <th>75%</th>\n",
       "      <td>41.166070</td>\n",
       "      <td>88.658375</td>\n",
       "      <td>9.892275e+04</td>\n",
       "      <td>1675.000000</td>\n",
       "      <td>5.115750e+03</td>\n",
       "      <td>2.644675e+04</td>\n",
       "    </tr>\n",
       "    <tr>\n",
       "      <th>max</th>\n",
       "      <td>71.706900</td>\n",
       "      <td>178.065000</td>\n",
       "      <td>7.925051e+07</td>\n",
       "      <td>958144.000000</td>\n",
       "      <td>3.097475e+07</td>\n",
       "      <td>7.829236e+07</td>\n",
       "    </tr>\n",
       "  </tbody>\n",
       "</table>\n",
       "</div>"
      ],
      "text/plain": [
       "                 Lat           Long     Confirmed         Deaths  \\\n",
       "count  213348.000000  213348.000000  2.148940e+05  214894.000000   \n",
       "mean       20.528131      22.735337  4.578132e+05    9310.764693   \n",
       "std        25.899139      76.304185  2.708770e+06   47497.835275   \n",
       "min       -71.949900    -178.116500  0.000000e+00       0.000000   \n",
       "25%         6.426991     -27.932425  2.530000e+02       2.000000   \n",
       "50%        22.233350      21.752000  5.223000e+03      71.000000   \n",
       "75%        41.166070      88.658375  9.892275e+04    1675.000000   \n",
       "max        71.706900     178.065000  7.925051e+07  958144.000000   \n",
       "\n",
       "          Recovered        Active  \n",
       "count  2.148940e+05  2.148940e+05  \n",
       "mean   1.079987e+05  3.405037e+05  \n",
       "std    8.470111e+05  2.516382e+06  \n",
       "min    0.000000e+00 -1.638280e+05  \n",
       "25%    0.000000e+00  1.600000e+01  \n",
       "50%    4.500000e+01  1.243000e+03  \n",
       "75%    5.115750e+03  2.644675e+04  \n",
       "max    3.097475e+07  7.829236e+07  "
      ]
     },
     "execution_count": 3,
     "metadata": {},
     "output_type": "execute_result"
    }
   ],
   "source": [
    "df.describe()"
   ]
  },
  {
   "cell_type": "code",
   "execution_count": 5,
   "metadata": {},
   "outputs": [
    {
     "data": {
      "text/plain": [
       "Province/State     object\n",
       "Country/Region     object\n",
       "Lat               float64\n",
       "Long              float64\n",
       "Date               object\n",
       "Confirmed           int64\n",
       "Deaths              int64\n",
       "Recovered           int64\n",
       "Active              int64\n",
       "WHO Region         object\n",
       "dtype: object"
      ]
     },
     "execution_count": 5,
     "metadata": {},
     "output_type": "execute_result"
    }
   ],
   "source": [
    "df.dtypes"
   ]
  },
  {
   "cell_type": "markdown",
   "metadata": {},
   "source": [
    "# 1. Missing Values"
   ]
  },
  {
   "cell_type": "code",
   "execution_count": 6,
   "metadata": {},
   "outputs": [
    {
     "data": {
      "text/plain": [
       "Province/State    149189\n",
       "Country/Region         0\n",
       "Lat                 1546\n",
       "Long                1546\n",
       "Date                   0\n",
       "Confirmed              0\n",
       "Deaths                 0\n",
       "Recovered              0\n",
       "Active                 0\n",
       "WHO Region          2319\n",
       "dtype: int64"
      ]
     },
     "execution_count": 6,
     "metadata": {},
     "output_type": "execute_result"
    }
   ],
   "source": [
    "df.isnull().sum()"
   ]
  },
  {
   "cell_type": "code",
   "execution_count": 11,
   "metadata": {},
   "outputs": [
    {
     "data": {
      "text/html": [
       "<div>\n",
       "<style scoped>\n",
       "    .dataframe tbody tr th:only-of-type {\n",
       "        vertical-align: middle;\n",
       "    }\n",
       "\n",
       "    .dataframe tbody tr th {\n",
       "        vertical-align: top;\n",
       "    }\n",
       "\n",
       "    .dataframe thead th {\n",
       "        text-align: right;\n",
       "    }\n",
       "</style>\n",
       "<table border=\"1\" class=\"dataframe\">\n",
       "  <thead>\n",
       "    <tr style=\"text-align: right;\">\n",
       "      <th></th>\n",
       "      <th>Province/State</th>\n",
       "      <th>Country/Region</th>\n",
       "      <th>Lat</th>\n",
       "      <th>Long</th>\n",
       "      <th>Date</th>\n",
       "      <th>Confirmed</th>\n",
       "      <th>Deaths</th>\n",
       "      <th>Recovered</th>\n",
       "      <th>Active</th>\n",
       "      <th>WHO Region</th>\n",
       "    </tr>\n",
       "  </thead>\n",
       "  <tbody>\n",
       "    <tr>\n",
       "      <th>0</th>\n",
       "      <td>1</td>\n",
       "      <td>Afghanistan</td>\n",
       "      <td>33.93911</td>\n",
       "      <td>67.709953</td>\n",
       "      <td>2020-01-22</td>\n",
       "      <td>0</td>\n",
       "      <td>0</td>\n",
       "      <td>0</td>\n",
       "      <td>0</td>\n",
       "      <td>Eastern Mediterranean</td>\n",
       "    </tr>\n",
       "    <tr>\n",
       "      <th>1</th>\n",
       "      <td>1</td>\n",
       "      <td>Albania</td>\n",
       "      <td>41.1533</td>\n",
       "      <td>20.1683</td>\n",
       "      <td>2020-01-22</td>\n",
       "      <td>0</td>\n",
       "      <td>0</td>\n",
       "      <td>0</td>\n",
       "      <td>0</td>\n",
       "      <td>Europe</td>\n",
       "    </tr>\n",
       "    <tr>\n",
       "      <th>2</th>\n",
       "      <td>1</td>\n",
       "      <td>Algeria</td>\n",
       "      <td>28.0339</td>\n",
       "      <td>1.6596</td>\n",
       "      <td>2020-01-22</td>\n",
       "      <td>0</td>\n",
       "      <td>0</td>\n",
       "      <td>0</td>\n",
       "      <td>0</td>\n",
       "      <td>Africa</td>\n",
       "    </tr>\n",
       "    <tr>\n",
       "      <th>3</th>\n",
       "      <td>1</td>\n",
       "      <td>Andorra</td>\n",
       "      <td>42.5063</td>\n",
       "      <td>1.5218</td>\n",
       "      <td>2020-01-22</td>\n",
       "      <td>0</td>\n",
       "      <td>0</td>\n",
       "      <td>0</td>\n",
       "      <td>0</td>\n",
       "      <td>Europe</td>\n",
       "    </tr>\n",
       "    <tr>\n",
       "      <th>4</th>\n",
       "      <td>1</td>\n",
       "      <td>Angola</td>\n",
       "      <td>-11.2027</td>\n",
       "      <td>17.8739</td>\n",
       "      <td>2020-01-22</td>\n",
       "      <td>0</td>\n",
       "      <td>0</td>\n",
       "      <td>0</td>\n",
       "      <td>0</td>\n",
       "      <td>Africa</td>\n",
       "    </tr>\n",
       "    <tr>\n",
       "      <th>...</th>\n",
       "      <td>...</td>\n",
       "      <td>...</td>\n",
       "      <td>...</td>\n",
       "      <td>...</td>\n",
       "      <td>...</td>\n",
       "      <td>...</td>\n",
       "      <td>...</td>\n",
       "      <td>...</td>\n",
       "      <td>...</td>\n",
       "      <td>...</td>\n",
       "    </tr>\n",
       "    <tr>\n",
       "      <th>214889</th>\n",
       "      <td>1</td>\n",
       "      <td>West Bank and Gaza</td>\n",
       "      <td>31.9522</td>\n",
       "      <td>35.2332</td>\n",
       "      <td>2022-03-04</td>\n",
       "      <td>649971</td>\n",
       "      <td>5557</td>\n",
       "      <td>0</td>\n",
       "      <td>644414</td>\n",
       "      <td>Eastern Mediterranean</td>\n",
       "    </tr>\n",
       "    <tr>\n",
       "      <th>214890</th>\n",
       "      <td>1</td>\n",
       "      <td>Winter Olympics 2022</td>\n",
       "      <td>39.9042</td>\n",
       "      <td>116.4074</td>\n",
       "      <td>2022-03-04</td>\n",
       "      <td>530</td>\n",
       "      <td>0</td>\n",
       "      <td>0</td>\n",
       "      <td>530</td>\n",
       "      <td>1</td>\n",
       "    </tr>\n",
       "    <tr>\n",
       "      <th>214891</th>\n",
       "      <td>1</td>\n",
       "      <td>Yemen</td>\n",
       "      <td>15.552727</td>\n",
       "      <td>48.516388</td>\n",
       "      <td>2022-03-04</td>\n",
       "      <td>11774</td>\n",
       "      <td>2135</td>\n",
       "      <td>0</td>\n",
       "      <td>9639</td>\n",
       "      <td>Eastern Mediterranean</td>\n",
       "    </tr>\n",
       "    <tr>\n",
       "      <th>214892</th>\n",
       "      <td>1</td>\n",
       "      <td>Zambia</td>\n",
       "      <td>-13.133897</td>\n",
       "      <td>27.849332</td>\n",
       "      <td>2022-03-04</td>\n",
       "      <td>313613</td>\n",
       "      <td>3958</td>\n",
       "      <td>0</td>\n",
       "      <td>309655</td>\n",
       "      <td>Africa</td>\n",
       "    </tr>\n",
       "    <tr>\n",
       "      <th>214893</th>\n",
       "      <td>1</td>\n",
       "      <td>Zimbabwe</td>\n",
       "      <td>-19.015438</td>\n",
       "      <td>29.154857</td>\n",
       "      <td>2022-03-04</td>\n",
       "      <td>238739</td>\n",
       "      <td>5397</td>\n",
       "      <td>0</td>\n",
       "      <td>233342</td>\n",
       "      <td>Africa</td>\n",
       "    </tr>\n",
       "  </tbody>\n",
       "</table>\n",
       "<p>214894 rows × 10 columns</p>\n",
       "</div>"
      ],
      "text/plain": [
       "       Province/State        Country/Region        Lat       Long        Date   \n",
       "0                   1           Afghanistan   33.93911  67.709953  2020-01-22  \\\n",
       "1                   1               Albania    41.1533    20.1683  2020-01-22   \n",
       "2                   1               Algeria    28.0339     1.6596  2020-01-22   \n",
       "3                   1               Andorra    42.5063     1.5218  2020-01-22   \n",
       "4                   1                Angola   -11.2027    17.8739  2020-01-22   \n",
       "...               ...                   ...        ...        ...         ...   \n",
       "214889              1    West Bank and Gaza    31.9522    35.2332  2022-03-04   \n",
       "214890              1  Winter Olympics 2022    39.9042   116.4074  2022-03-04   \n",
       "214891              1                 Yemen  15.552727  48.516388  2022-03-04   \n",
       "214892              1                Zambia -13.133897  27.849332  2022-03-04   \n",
       "214893              1              Zimbabwe -19.015438  29.154857  2022-03-04   \n",
       "\n",
       "        Confirmed  Deaths  Recovered  Active             WHO Region  \n",
       "0               0       0          0       0  Eastern Mediterranean  \n",
       "1               0       0          0       0                 Europe  \n",
       "2               0       0          0       0                 Africa  \n",
       "3               0       0          0       0                 Europe  \n",
       "4               0       0          0       0                 Africa  \n",
       "...           ...     ...        ...     ...                    ...  \n",
       "214889     649971    5557          0  644414  Eastern Mediterranean  \n",
       "214890        530       0          0     530                      1  \n",
       "214891      11774    2135          0    9639  Eastern Mediterranean  \n",
       "214892     313613    3958          0  309655                 Africa  \n",
       "214893     238739    5397          0  233342                 Africa  \n",
       "\n",
       "[214894 rows x 10 columns]"
      ]
     },
     "execution_count": 11,
     "metadata": {},
     "output_type": "execute_result"
    }
   ],
   "source": [
    "df.fillna(\"1\") "
   ]
  },
  {
   "cell_type": "code",
   "execution_count": 13,
   "metadata": {},
   "outputs": [],
   "source": [
    "df['WHO Region'].fillna(df['WHO Region'].mode()[0], inplace = True) # for categorical data"
   ]
  },
  {
   "cell_type": "code",
   "execution_count": 14,
   "metadata": {},
   "outputs": [
    {
     "data": {
      "text/plain": [
       "Province/State    149189\n",
       "Country/Region         0\n",
       "Lat                 1546\n",
       "Long                1546\n",
       "Date                   0\n",
       "Confirmed              0\n",
       "Deaths                 0\n",
       "Recovered              0\n",
       "Active                 0\n",
       "WHO Region             0\n",
       "dtype: int64"
      ]
     },
     "execution_count": 14,
     "metadata": {},
     "output_type": "execute_result"
    }
   ],
   "source": [
    " df.isnull().sum()"
   ]
  },
  {
   "cell_type": "code",
   "execution_count": null,
   "metadata": {},
   "outputs": [],
   "source": []
  },
  {
   "cell_type": "markdown",
   "metadata": {},
   "source": [
    "# 2. Checking Duplicates"
   ]
  },
  {
   "cell_type": "code",
   "execution_count": 19,
   "metadata": {},
   "outputs": [],
   "source": [
    "duplicate = df.duplicated()"
   ]
  },
  {
   "cell_type": "code",
   "execution_count": 20,
   "metadata": {},
   "outputs": [
    {
     "data": {
      "text/plain": [
       "0"
      ]
     },
     "execution_count": 20,
     "metadata": {},
     "output_type": "execute_result"
    }
   ],
   "source": [
    "sum(duplicate)"
   ]
  },
  {
   "cell_type": "markdown",
   "metadata": {},
   "source": [
    "If Duplicates present,\n",
    "\n",
    "df = df.drop_duplicates()"
   ]
  },
  {
   "cell_type": "markdown",
   "metadata": {},
   "source": [
    "# 3. TypeCasting"
   ]
  },
  {
   "cell_type": "code",
   "execution_count": 21,
   "metadata": {},
   "outputs": [
    {
     "data": {
      "text/plain": [
       "Country/Region     object\n",
       "Lat               float64\n",
       "Long              float64\n",
       "Date               object\n",
       "Confirmed           int64\n",
       "Deaths              int64\n",
       "Recovered           int64\n",
       "Active              int64\n",
       "WHO Region         object\n",
       "dtype: object"
      ]
     },
     "execution_count": 21,
     "metadata": {},
     "output_type": "execute_result"
    }
   ],
   "source": [
    "df.dtypes"
   ]
  },
  {
   "cell_type": "code",
   "execution_count": 28,
   "metadata": {},
   "outputs": [],
   "source": [
    "df['Country/Region'] = df['Country/Region'].astype('string')"
   ]
  },
  {
   "cell_type": "code",
   "execution_count": 23,
   "metadata": {},
   "outputs": [],
   "source": [
    "df['WHO Region'] = df['WHO Region'].astype('string')"
   ]
  },
  {
   "cell_type": "code",
   "execution_count": 29,
   "metadata": {},
   "outputs": [
    {
     "data": {
      "text/plain": [
       "Country/Region    string[python]\n",
       "Lat                      float64\n",
       "Long                     float64\n",
       "Date                      object\n",
       "Confirmed                  int64\n",
       "Deaths                     int64\n",
       "Recovered                  int64\n",
       "Active                     int64\n",
       "WHO Region        string[python]\n",
       "dtype: object"
      ]
     },
     "execution_count": 29,
     "metadata": {},
     "output_type": "execute_result"
    }
   ],
   "source": [
    "df.dtypes"
   ]
  },
  {
   "cell_type": "markdown",
   "metadata": {},
   "source": [
    "# 4. Variance\n"
   ]
  },
  {
   "cell_type": "code",
   "execution_count": 36,
   "metadata": {},
   "outputs": [
    {
     "data": {
      "text/plain": [
       "5822.328622080355"
      ]
     },
     "execution_count": 36,
     "metadata": {},
     "output_type": "execute_result"
    }
   ],
   "source": [
    "df['Long'].var()"
   ]
  },
  {
   "cell_type": "markdown",
   "metadata": {},
   "source": [
    "# 5. Binning"
   ]
  },
  {
   "cell_type": "code",
   "execution_count": 37,
   "metadata": {},
   "outputs": [],
   "source": [
    "df['Lat_new'] = pd.cut(df['Lat'], \n",
    "                                  bins = [min(df.Lat), \n",
    "                                          df['Lat'].quantile(0.25), \n",
    "                                          df['Lat'].quantile(0.5), \n",
    "                                          df['Lat'].quantile(0.75), \n",
    "                                          max(df.Lat)], \n",
    "                                          labels=[\"Low\", \"Below Ave\", \"Above Ave\", \"High\"])"
   ]
  },
  {
   "cell_type": "code",
   "execution_count": 38,
   "metadata": {},
   "outputs": [
    {
     "data": {
      "text/plain": [
       "Lat_new\n",
       "Below Ave    53337\n",
       "Above Ave    53337\n",
       "High         53337\n",
       "Low          52564\n",
       "Name: count, dtype: int64"
      ]
     },
     "execution_count": 38,
     "metadata": {},
     "output_type": "execute_result"
    }
   ],
   "source": [
    "df.Lat_new.value_counts()"
   ]
  },
  {
   "cell_type": "markdown",
   "metadata": {},
   "source": [
    "# 6. Outlier Treatment"
   ]
  },
  {
   "cell_type": "code",
   "execution_count": 44,
   "metadata": {},
   "outputs": [
    {
     "data": {
      "text/plain": [
       "<Axes: >"
      ]
     },
     "execution_count": 44,
     "metadata": {},
     "output_type": "execute_result"
    },
    {
     "data": {
      "image/png": "[encoded data removed]",
      "text/plain": [
       "<Figure size 432x288 with 1 Axes>"
      ]
     },
     "metadata": {
      "needs_background": "light"
     },
     "output_type": "display_data"
    }
   ],
   "source": [
    "sns.boxplot(df.Lat)"
   ]
  },
  {
   "cell_type": "code",
   "execution_count": 45,
   "metadata": {},
   "outputs": [
    {
     "data": {
      "text/plain": [
       "<Axes: >"
      ]
     },
     "execution_count": 45,
     "metadata": {},
     "output_type": "execute_result"
    },
    {
     "data": {
      "image/png": "[encoded data removed]",
      "text/plain": [
       "<Figure size 432x288 with 1 Axes>"
      ]
     },
     "metadata": {
      "needs_background": "light"
     },
     "output_type": "display_data"
    }
   ],
   "source": [
    "sns.boxplot(df.Long)"
   ]
  },
  {
   "cell_type": "code",
   "execution_count": 46,
   "metadata": {},
   "outputs": [],
   "source": [
    "# Detection of outliers (find limits for salary based on IQR)\n",
    "\n",
    "# IQR = Q3 - Q1\n",
    "\n",
    "Q3 = df['Lat'].quantile(0.75)\n",
    "Q1 = df['Lat'].quantile(0.25)\n",
    "\n",
    "# IQR = Q3 - Q1\n",
    "IQR = Q3 - Q1\n",
    "\n",
    "# upper_limit = Q3 + (IQR * 1.5)\n",
    "upper_limit = Q3 + (IQR * 1.5)\n",
    "\n",
    "#lower_limit = Q1 - (IQR * 1.5)\n",
    "lower_limit = Q1 - (IQR * 1.5)\n",
    "\n",
    "\n"
   ]
  },
  {
   "cell_type": "code",
   "execution_count": 68,
   "metadata": {},
   "outputs": [
    {
     "data": {
      "text/html": [
       "<div>\n",
       "<style scoped>\n",
       "    .dataframe tbody tr th:only-of-type {\n",
       "        vertical-align: middle;\n",
       "    }\n",
       "\n",
       "    .dataframe tbody tr th {\n",
       "        vertical-align: top;\n",
       "    }\n",
       "\n",
       "    .dataframe thead th {\n",
       "        text-align: right;\n",
       "    }\n",
       "</style>\n",
       "<table border=\"1\" class=\"dataframe\">\n",
       "  <thead>\n",
       "    <tr style=\"text-align: right;\">\n",
       "      <th></th>\n",
       "      <th>Lat</th>\n",
       "      <th>Long</th>\n",
       "      <th>Confirmed</th>\n",
       "      <th>Deaths</th>\n",
       "      <th>Recovered</th>\n",
       "      <th>Active</th>\n",
       "    </tr>\n",
       "  </thead>\n",
       "  <tbody>\n",
       "    <tr>\n",
       "      <th>count</th>\n",
       "      <td>211802.000000</td>\n",
       "      <td>211802.000000</td>\n",
       "      <td>2.133480e+05</td>\n",
       "      <td>213348.000000</td>\n",
       "      <td>2.133480e+05</td>\n",
       "      <td>2.133480e+05</td>\n",
       "    </tr>\n",
       "    <tr>\n",
       "      <th>mean</th>\n",
       "      <td>21.129600</td>\n",
       "      <td>23.033319</td>\n",
       "      <td>4.611305e+05</td>\n",
       "      <td>9378.234003</td>\n",
       "      <td>1.087812e+05</td>\n",
       "      <td>3.429710e+05</td>\n",
       "    </tr>\n",
       "    <tr>\n",
       "      <th>std</th>\n",
       "      <td>24.999931</td>\n",
       "      <td>76.420167</td>\n",
       "      <td>2.718286e+06</td>\n",
       "      <td>47662.981799</td>\n",
       "      <td>8.500244e+05</td>\n",
       "      <td>2.525315e+06</td>\n",
       "    </tr>\n",
       "    <tr>\n",
       "      <th>min</th>\n",
       "      <td>-42.882100</td>\n",
       "      <td>-178.116500</td>\n",
       "      <td>0.000000e+00</td>\n",
       "      <td>0.000000</td>\n",
       "      <td>0.000000e+00</td>\n",
       "      <td>-1.638280e+05</td>\n",
       "    </tr>\n",
       "    <tr>\n",
       "      <th>25%</th>\n",
       "      <td>6.611100</td>\n",
       "      <td>-23.041800</td>\n",
       "      <td>2.660000e+02</td>\n",
       "      <td>2.000000</td>\n",
       "      <td>0.000000e+00</td>\n",
       "      <td>1.800000e+01</td>\n",
       "    </tr>\n",
       "    <tr>\n",
       "      <th>50%</th>\n",
       "      <td>22.820850</td>\n",
       "      <td>21.752000</td>\n",
       "      <td>5.432500e+03</td>\n",
       "      <td>75.000000</td>\n",
       "      <td>5.000000e+01</td>\n",
       "      <td>1.282000e+03</td>\n",
       "    </tr>\n",
       "    <tr>\n",
       "      <th>75%</th>\n",
       "      <td>41.204380</td>\n",
       "      <td>90.356300</td>\n",
       "      <td>1.008685e+05</td>\n",
       "      <td>1726.000000</td>\n",
       "      <td>5.287000e+03</td>\n",
       "      <td>2.718825e+04</td>\n",
       "    </tr>\n",
       "    <tr>\n",
       "      <th>max</th>\n",
       "      <td>71.706900</td>\n",
       "      <td>178.065000</td>\n",
       "      <td>7.925051e+07</td>\n",
       "      <td>958144.000000</td>\n",
       "      <td>3.097475e+07</td>\n",
       "      <td>7.829236e+07</td>\n",
       "    </tr>\n",
       "  </tbody>\n",
       "</table>\n",
       "</div>"
      ],
      "text/plain": [
       "                 Lat           Long     Confirmed         Deaths   \n",
       "count  211802.000000  211802.000000  2.133480e+05  213348.000000  \\\n",
       "mean       21.129600      23.033319  4.611305e+05    9378.234003   \n",
       "std        24.999931      76.420167  2.718286e+06   47662.981799   \n",
       "min       -42.882100    -178.116500  0.000000e+00       0.000000   \n",
       "25%         6.611100     -23.041800  2.660000e+02       2.000000   \n",
       "50%        22.820850      21.752000  5.432500e+03      75.000000   \n",
       "75%        41.204380      90.356300  1.008685e+05    1726.000000   \n",
       "max        71.706900     178.065000  7.925051e+07  958144.000000   \n",
       "\n",
       "          Recovered        Active  \n",
       "count  2.133480e+05  2.133480e+05  \n",
       "mean   1.087812e+05  3.429710e+05  \n",
       "std    8.500244e+05  2.525315e+06  \n",
       "min    0.000000e+00 -1.638280e+05  \n",
       "25%    0.000000e+00  1.800000e+01  \n",
       "50%    5.000000e+01  1.282000e+03  \n",
       "75%    5.287000e+03  2.718825e+04  \n",
       "max    3.097475e+07  7.829236e+07  "
      ]
     },
     "execution_count": 68,
     "metadata": {},
     "output_type": "execute_result"
    }
   ],
   "source": [
    "df.describe()"
   ]
  },
  {
   "cell_type": "code",
   "execution_count": 69,
   "metadata": {},
   "outputs": [
    {
     "data": {
      "text/plain": [
       "Index(['Country/Region', 'Lat', 'Long', 'Date', 'Confirmed', 'Deaths',\n",
       "       'Recovered', 'Active', 'WHO Region', 'Lat_new'],\n",
       "      dtype='object')"
      ]
     },
     "execution_count": 69,
     "metadata": {},
     "output_type": "execute_result"
    }
   ],
   "source": [
    "df.columns"
   ]
  },
  {
   "cell_type": "code",
   "execution_count": 70,
   "metadata": {},
   "outputs": [
    {
     "data": {
      "text/html": [
       "<div>\n",
       "<style scoped>\n",
       "    .dataframe tbody tr th:only-of-type {\n",
       "        vertical-align: middle;\n",
       "    }\n",
       "\n",
       "    .dataframe tbody tr th {\n",
       "        vertical-align: top;\n",
       "    }\n",
       "\n",
       "    .dataframe thead th {\n",
       "        text-align: right;\n",
       "    }\n",
       "</style>\n",
       "<table border=\"1\" class=\"dataframe\">\n",
       "  <thead>\n",
       "    <tr style=\"text-align: right;\">\n",
       "      <th></th>\n",
       "      <th>Country/Region</th>\n",
       "      <th>Lat</th>\n",
       "      <th>Long</th>\n",
       "      <th>Date</th>\n",
       "      <th>Confirmed</th>\n",
       "      <th>Deaths</th>\n",
       "      <th>Recovered</th>\n",
       "      <th>Active</th>\n",
       "      <th>WHO Region</th>\n",
       "      <th>Lat_new</th>\n",
       "    </tr>\n",
       "  </thead>\n",
       "  <tbody>\n",
       "    <tr>\n",
       "      <th>0</th>\n",
       "      <td>Afghanistan</td>\n",
       "      <td>33.93911</td>\n",
       "      <td>67.709953</td>\n",
       "      <td>2020-01-22</td>\n",
       "      <td>0</td>\n",
       "      <td>0</td>\n",
       "      <td>0</td>\n",
       "      <td>0</td>\n",
       "      <td>Eastern Mediterranean</td>\n",
       "      <td>Above Ave</td>\n",
       "    </tr>\n",
       "    <tr>\n",
       "      <th>1</th>\n",
       "      <td>Albania</td>\n",
       "      <td>41.15330</td>\n",
       "      <td>20.168300</td>\n",
       "      <td>2020-01-22</td>\n",
       "      <td>0</td>\n",
       "      <td>0</td>\n",
       "      <td>0</td>\n",
       "      <td>0</td>\n",
       "      <td>Europe</td>\n",
       "      <td>Above Ave</td>\n",
       "    </tr>\n",
       "    <tr>\n",
       "      <th>2</th>\n",
       "      <td>Algeria</td>\n",
       "      <td>28.03390</td>\n",
       "      <td>1.659600</td>\n",
       "      <td>2020-01-22</td>\n",
       "      <td>0</td>\n",
       "      <td>0</td>\n",
       "      <td>0</td>\n",
       "      <td>0</td>\n",
       "      <td>Africa</td>\n",
       "      <td>Above Ave</td>\n",
       "    </tr>\n",
       "    <tr>\n",
       "      <th>3</th>\n",
       "      <td>Andorra</td>\n",
       "      <td>42.50630</td>\n",
       "      <td>1.521800</td>\n",
       "      <td>2020-01-22</td>\n",
       "      <td>0</td>\n",
       "      <td>0</td>\n",
       "      <td>0</td>\n",
       "      <td>0</td>\n",
       "      <td>Europe</td>\n",
       "      <td>High</td>\n",
       "    </tr>\n",
       "    <tr>\n",
       "      <th>4</th>\n",
       "      <td>Angola</td>\n",
       "      <td>-11.20270</td>\n",
       "      <td>17.873900</td>\n",
       "      <td>2020-01-22</td>\n",
       "      <td>0</td>\n",
       "      <td>0</td>\n",
       "      <td>0</td>\n",
       "      <td>0</td>\n",
       "      <td>Africa</td>\n",
       "      <td>Low</td>\n",
       "    </tr>\n",
       "  </tbody>\n",
       "</table>\n",
       "</div>"
      ],
      "text/plain": [
       "  Country/Region       Lat       Long        Date  Confirmed  Deaths   \n",
       "0    Afghanistan  33.93911  67.709953  2020-01-22          0       0  \\\n",
       "1        Albania  41.15330  20.168300  2020-01-22          0       0   \n",
       "2        Algeria  28.03390   1.659600  2020-01-22          0       0   \n",
       "3        Andorra  42.50630   1.521800  2020-01-22          0       0   \n",
       "4         Angola -11.20270  17.873900  2020-01-22          0       0   \n",
       "\n",
       "   Recovered  Active             WHO Region    Lat_new  \n",
       "0          0       0  Eastern Mediterranean  Above Ave  \n",
       "1          0       0                 Europe  Above Ave  \n",
       "2          0       0                 Africa  Above Ave  \n",
       "3          0       0                 Europe       High  \n",
       "4          0       0                 Africa        Low  "
      ]
     },
     "execution_count": 70,
     "metadata": {},
     "output_type": "execute_result"
    }
   ],
   "source": [
    "df.head()"
   ]
  },
  {
   "cell_type": "code",
   "execution_count": 22,
   "metadata": {},
   "outputs": [
    {
     "data": {
      "text/plain": [
       "34.725245"
      ]
     },
     "execution_count": 22,
     "metadata": {},
     "output_type": "execute_result"
    }
   ],
   "source": [
    "IQR"
   ]
  },
  {
   "cell_type": "code",
   "execution_count": 23,
   "metadata": {},
   "outputs": [
    {
     "data": {
      "text/plain": [
       "93.2411675"
      ]
     },
     "execution_count": 23,
     "metadata": {},
     "output_type": "execute_result"
    }
   ],
   "source": [
    "upper_limit"
   ]
  },
  {
   "cell_type": "code",
   "execution_count": 24,
   "metadata": {},
   "outputs": [
    {
     "data": {
      "text/plain": [
       "-45.6598125"
      ]
     },
     "execution_count": 24,
     "metadata": {},
     "output_type": "execute_result"
    }
   ],
   "source": [
    "lower_limit"
   ]
  },
  {
   "cell_type": "code",
   "execution_count": 25,
   "metadata": {},
   "outputs": [
    {
     "data": {
      "text/plain": [
       "41.1533"
      ]
     },
     "execution_count": 25,
     "metadata": {},
     "output_type": "execute_result"
    }
   ],
   "source": [
    "Q3"
   ]
  },
  {
   "cell_type": "code",
   "execution_count": 26,
   "metadata": {},
   "outputs": [
    {
     "data": {
      "text/plain": [
       "6.428055"
      ]
     },
     "execution_count": 26,
     "metadata": {},
     "output_type": "execute_result"
    }
   ],
   "source": [
    "Q1"
   ]
  },
  {
   "cell_type": "markdown",
   "metadata": {},
   "source": []
  },
  {
   "cell_type": "markdown",
   "metadata": {},
   "source": [
    "1. Finding Outliers"
   ]
  },
  {
   "cell_type": "code",
   "execution_count": 47,
   "metadata": {},
   "outputs": [],
   "source": [
    "outliers_df = np.where(df['Lat'] > upper_limit, True, np.where(df['Lat'] < lower_limit, True, False))"
   ]
  },
  {
   "cell_type": "code",
   "execution_count": 48,
   "metadata": {},
   "outputs": [
    {
     "data": {
      "text/plain": [
       "array([False, False, False, ..., False, False, False])"
      ]
     },
     "execution_count": 48,
     "metadata": {},
     "output_type": "execute_result"
    }
   ],
   "source": [
    "outliers_df"
   ]
  },
  {
   "cell_type": "code",
   "execution_count": 49,
   "metadata": {},
   "outputs": [],
   "source": [
    "df_having_outliers = df.loc[(outliers_df), ]"
   ]
  },
  {
   "cell_type": "code",
   "execution_count": 50,
   "metadata": {},
   "outputs": [
    {
     "data": {
      "text/html": [
       "<div>\n",
       "<style scoped>\n",
       "    .dataframe tbody tr th:only-of-type {\n",
       "        vertical-align: middle;\n",
       "    }\n",
       "\n",
       "    .dataframe tbody tr th {\n",
       "        vertical-align: top;\n",
       "    }\n",
       "\n",
       "    .dataframe thead th {\n",
       "        text-align: right;\n",
       "    }\n",
       "</style>\n",
       "<table border=\"1\" class=\"dataframe\">\n",
       "  <thead>\n",
       "    <tr style=\"text-align: right;\">\n",
       "      <th></th>\n",
       "      <th>Country/Region</th>\n",
       "      <th>Lat</th>\n",
       "      <th>Long</th>\n",
       "      <th>Date</th>\n",
       "      <th>Confirmed</th>\n",
       "      <th>Deaths</th>\n",
       "      <th>Recovered</th>\n",
       "      <th>Active</th>\n",
       "      <th>WHO Region</th>\n",
       "      <th>Lat_new</th>\n",
       "    </tr>\n",
       "  </thead>\n",
       "  <tbody>\n",
       "    <tr>\n",
       "      <th>5</th>\n",
       "      <td>Antarctica</td>\n",
       "      <td>-71.9499</td>\n",
       "      <td>23.3470</td>\n",
       "      <td>2020-01-22</td>\n",
       "      <td>0</td>\n",
       "      <td>0</td>\n",
       "      <td>0</td>\n",
       "      <td>0</td>\n",
       "      <td>Europe</td>\n",
       "      <td>NaN</td>\n",
       "    </tr>\n",
       "    <tr>\n",
       "      <th>260</th>\n",
       "      <td>United Kingdom</td>\n",
       "      <td>-51.7963</td>\n",
       "      <td>-59.5236</td>\n",
       "      <td>2020-01-22</td>\n",
       "      <td>0</td>\n",
       "      <td>0</td>\n",
       "      <td>0</td>\n",
       "      <td>0</td>\n",
       "      <td>Europe</td>\n",
       "      <td>Low</td>\n",
       "    </tr>\n",
       "    <tr>\n",
       "      <th>283</th>\n",
       "      <td>Antarctica</td>\n",
       "      <td>-71.9499</td>\n",
       "      <td>23.3470</td>\n",
       "      <td>2020-01-23</td>\n",
       "      <td>0</td>\n",
       "      <td>0</td>\n",
       "      <td>0</td>\n",
       "      <td>0</td>\n",
       "      <td>Europe</td>\n",
       "      <td>NaN</td>\n",
       "    </tr>\n",
       "    <tr>\n",
       "      <th>538</th>\n",
       "      <td>United Kingdom</td>\n",
       "      <td>-51.7963</td>\n",
       "      <td>-59.5236</td>\n",
       "      <td>2020-01-23</td>\n",
       "      <td>0</td>\n",
       "      <td>0</td>\n",
       "      <td>0</td>\n",
       "      <td>0</td>\n",
       "      <td>Europe</td>\n",
       "      <td>Low</td>\n",
       "    </tr>\n",
       "    <tr>\n",
       "      <th>561</th>\n",
       "      <td>Antarctica</td>\n",
       "      <td>-71.9499</td>\n",
       "      <td>23.3470</td>\n",
       "      <td>2020-01-24</td>\n",
       "      <td>0</td>\n",
       "      <td>0</td>\n",
       "      <td>0</td>\n",
       "      <td>0</td>\n",
       "      <td>Europe</td>\n",
       "      <td>NaN</td>\n",
       "    </tr>\n",
       "    <tr>\n",
       "      <th>...</th>\n",
       "      <td>...</td>\n",
       "      <td>...</td>\n",
       "      <td>...</td>\n",
       "      <td>...</td>\n",
       "      <td>...</td>\n",
       "      <td>...</td>\n",
       "      <td>...</td>\n",
       "      <td>...</td>\n",
       "      <td>...</td>\n",
       "      <td>...</td>\n",
       "    </tr>\n",
       "    <tr>\n",
       "      <th>214320</th>\n",
       "      <td>United Kingdom</td>\n",
       "      <td>-51.7963</td>\n",
       "      <td>-59.5236</td>\n",
       "      <td>2022-03-02</td>\n",
       "      <td>113</td>\n",
       "      <td>0</td>\n",
       "      <td>0</td>\n",
       "      <td>113</td>\n",
       "      <td>Europe</td>\n",
       "      <td>Low</td>\n",
       "    </tr>\n",
       "    <tr>\n",
       "      <th>214343</th>\n",
       "      <td>Antarctica</td>\n",
       "      <td>-71.9499</td>\n",
       "      <td>23.3470</td>\n",
       "      <td>2022-03-03</td>\n",
       "      <td>11</td>\n",
       "      <td>0</td>\n",
       "      <td>0</td>\n",
       "      <td>11</td>\n",
       "      <td>Europe</td>\n",
       "      <td>NaN</td>\n",
       "    </tr>\n",
       "    <tr>\n",
       "      <th>214598</th>\n",
       "      <td>United Kingdom</td>\n",
       "      <td>-51.7963</td>\n",
       "      <td>-59.5236</td>\n",
       "      <td>2022-03-03</td>\n",
       "      <td>114</td>\n",
       "      <td>0</td>\n",
       "      <td>0</td>\n",
       "      <td>114</td>\n",
       "      <td>Europe</td>\n",
       "      <td>Low</td>\n",
       "    </tr>\n",
       "    <tr>\n",
       "      <th>214621</th>\n",
       "      <td>Antarctica</td>\n",
       "      <td>-71.9499</td>\n",
       "      <td>23.3470</td>\n",
       "      <td>2022-03-04</td>\n",
       "      <td>11</td>\n",
       "      <td>0</td>\n",
       "      <td>0</td>\n",
       "      <td>11</td>\n",
       "      <td>Europe</td>\n",
       "      <td>NaN</td>\n",
       "    </tr>\n",
       "    <tr>\n",
       "      <th>214876</th>\n",
       "      <td>United Kingdom</td>\n",
       "      <td>-51.7963</td>\n",
       "      <td>-59.5236</td>\n",
       "      <td>2022-03-04</td>\n",
       "      <td>115</td>\n",
       "      <td>0</td>\n",
       "      <td>0</td>\n",
       "      <td>115</td>\n",
       "      <td>Europe</td>\n",
       "      <td>Low</td>\n",
       "    </tr>\n",
       "  </tbody>\n",
       "</table>\n",
       "<p>1546 rows × 10 columns</p>\n",
       "</div>"
      ],
      "text/plain": [
       "        Country/Region      Lat     Long        Date  Confirmed  Deaths   \n",
       "5           Antarctica -71.9499  23.3470  2020-01-22          0       0  \\\n",
       "260     United Kingdom -51.7963 -59.5236  2020-01-22          0       0   \n",
       "283         Antarctica -71.9499  23.3470  2020-01-23          0       0   \n",
       "538     United Kingdom -51.7963 -59.5236  2020-01-23          0       0   \n",
       "561         Antarctica -71.9499  23.3470  2020-01-24          0       0   \n",
       "...                ...      ...      ...         ...        ...     ...   \n",
       "214320  United Kingdom -51.7963 -59.5236  2022-03-02        113       0   \n",
       "214343      Antarctica -71.9499  23.3470  2022-03-03         11       0   \n",
       "214598  United Kingdom -51.7963 -59.5236  2022-03-03        114       0   \n",
       "214621      Antarctica -71.9499  23.3470  2022-03-04         11       0   \n",
       "214876  United Kingdom -51.7963 -59.5236  2022-03-04        115       0   \n",
       "\n",
       "        Recovered  Active WHO Region Lat_new  \n",
       "5               0       0     Europe     NaN  \n",
       "260             0       0     Europe     Low  \n",
       "283             0       0     Europe     NaN  \n",
       "538             0       0     Europe     Low  \n",
       "561             0       0     Europe     NaN  \n",
       "...           ...     ...        ...     ...  \n",
       "214320          0     113     Europe     Low  \n",
       "214343          0      11     Europe     NaN  \n",
       "214598          0     114     Europe     Low  \n",
       "214621          0      11     Europe     NaN  \n",
       "214876          0     115     Europe     Low  \n",
       "\n",
       "[1546 rows x 10 columns]"
      ]
     },
     "execution_count": 50,
     "metadata": {},
     "output_type": "execute_result"
    }
   ],
   "source": [
    "df_having_outliers # These are the outliers"
   ]
  },
  {
   "cell_type": "markdown",
   "metadata": {},
   "source": [
    "2. Remove the outliers"
   ]
  },
  {
   "cell_type": "code",
   "execution_count": 51,
   "metadata": {},
   "outputs": [],
   "source": [
    "df = df.drop(df_having_outliers.index)"
   ]
  },
  {
   "cell_type": "code",
   "execution_count": 52,
   "metadata": {},
   "outputs": [
    {
     "data": {
      "text/plain": [
       "<Axes: >"
      ]
     },
     "execution_count": 52,
     "metadata": {},
     "output_type": "execute_result"
    },
    {
     "data": {
      "image/png": "[encoded data removed]",
      "text/plain": [
       "<Figure size 432x288 with 1 Axes>"
      ]
     },
     "metadata": {
      "needs_background": "light"
     },
     "output_type": "display_data"
    }
   ],
   "source": [
    "sns.boxplot(df.Lat) # No outliers"
   ]
  },
  {
   "cell_type": "markdown",
   "metadata": {},
   "source": [
    "\n",
    "## Categorical to Quantitative "
   ]
  },
  {
   "cell_type": "code",
   "execution_count": 53,
   "metadata": {},
   "outputs": [
    {
     "data": {
      "text/html": [
       "<div>\n",
       "<style scoped>\n",
       "    .dataframe tbody tr th:only-of-type {\n",
       "        vertical-align: middle;\n",
       "    }\n",
       "\n",
       "    .dataframe tbody tr th {\n",
       "        vertical-align: top;\n",
       "    }\n",
       "\n",
       "    .dataframe thead th {\n",
       "        text-align: right;\n",
       "    }\n",
       "</style>\n",
       "<table border=\"1\" class=\"dataframe\">\n",
       "  <thead>\n",
       "    <tr style=\"text-align: right;\">\n",
       "      <th></th>\n",
       "      <th>Lat</th>\n",
       "      <th>Long</th>\n",
       "      <th>Confirmed</th>\n",
       "      <th>Deaths</th>\n",
       "      <th>Recovered</th>\n",
       "      <th>Active</th>\n",
       "    </tr>\n",
       "  </thead>\n",
       "  <tbody>\n",
       "    <tr>\n",
       "      <th>count</th>\n",
       "      <td>211802.000000</td>\n",
       "      <td>211802.000000</td>\n",
       "      <td>2.133480e+05</td>\n",
       "      <td>213348.000000</td>\n",
       "      <td>2.133480e+05</td>\n",
       "      <td>2.133480e+05</td>\n",
       "    </tr>\n",
       "    <tr>\n",
       "      <th>mean</th>\n",
       "      <td>21.129600</td>\n",
       "      <td>23.033319</td>\n",
       "      <td>4.611305e+05</td>\n",
       "      <td>9378.234003</td>\n",
       "      <td>1.087812e+05</td>\n",
       "      <td>3.429710e+05</td>\n",
       "    </tr>\n",
       "    <tr>\n",
       "      <th>std</th>\n",
       "      <td>24.999931</td>\n",
       "      <td>76.420167</td>\n",
       "      <td>2.718286e+06</td>\n",
       "      <td>47662.981799</td>\n",
       "      <td>8.500244e+05</td>\n",
       "      <td>2.525315e+06</td>\n",
       "    </tr>\n",
       "    <tr>\n",
       "      <th>min</th>\n",
       "      <td>-42.882100</td>\n",
       "      <td>-178.116500</td>\n",
       "      <td>0.000000e+00</td>\n",
       "      <td>0.000000</td>\n",
       "      <td>0.000000e+00</td>\n",
       "      <td>-1.638280e+05</td>\n",
       "    </tr>\n",
       "    <tr>\n",
       "      <th>25%</th>\n",
       "      <td>6.611100</td>\n",
       "      <td>-23.041800</td>\n",
       "      <td>2.660000e+02</td>\n",
       "      <td>2.000000</td>\n",
       "      <td>0.000000e+00</td>\n",
       "      <td>1.800000e+01</td>\n",
       "    </tr>\n",
       "    <tr>\n",
       "      <th>50%</th>\n",
       "      <td>22.820850</td>\n",
       "      <td>21.752000</td>\n",
       "      <td>5.432500e+03</td>\n",
       "      <td>75.000000</td>\n",
       "      <td>5.000000e+01</td>\n",
       "      <td>1.282000e+03</td>\n",
       "    </tr>\n",
       "    <tr>\n",
       "      <th>75%</th>\n",
       "      <td>41.204380</td>\n",
       "      <td>90.356300</td>\n",
       "      <td>1.008685e+05</td>\n",
       "      <td>1726.000000</td>\n",
       "      <td>5.287000e+03</td>\n",
       "      <td>2.718825e+04</td>\n",
       "    </tr>\n",
       "    <tr>\n",
       "      <th>max</th>\n",
       "      <td>71.706900</td>\n",
       "      <td>178.065000</td>\n",
       "      <td>7.925051e+07</td>\n",
       "      <td>958144.000000</td>\n",
       "      <td>3.097475e+07</td>\n",
       "      <td>7.829236e+07</td>\n",
       "    </tr>\n",
       "  </tbody>\n",
       "</table>\n",
       "</div>"
      ],
      "text/plain": [
       "                 Lat           Long     Confirmed         Deaths   \n",
       "count  211802.000000  211802.000000  2.133480e+05  213348.000000  \\\n",
       "mean       21.129600      23.033319  4.611305e+05    9378.234003   \n",
       "std        24.999931      76.420167  2.718286e+06   47662.981799   \n",
       "min       -42.882100    -178.116500  0.000000e+00       0.000000   \n",
       "25%         6.611100     -23.041800  2.660000e+02       2.000000   \n",
       "50%        22.820850      21.752000  5.432500e+03      75.000000   \n",
       "75%        41.204380      90.356300  1.008685e+05    1726.000000   \n",
       "max        71.706900     178.065000  7.925051e+07  958144.000000   \n",
       "\n",
       "          Recovered        Active  \n",
       "count  2.133480e+05  2.133480e+05  \n",
       "mean   1.087812e+05  3.429710e+05  \n",
       "std    8.500244e+05  2.525315e+06  \n",
       "min    0.000000e+00 -1.638280e+05  \n",
       "25%    0.000000e+00  1.800000e+01  \n",
       "50%    5.000000e+01  1.282000e+03  \n",
       "75%    5.287000e+03  2.718825e+04  \n",
       "max    3.097475e+07  7.829236e+07  "
      ]
     },
     "execution_count": 53,
     "metadata": {},
     "output_type": "execute_result"
    }
   ],
   "source": [
    "df.describe()"
   ]
  },
  {
   "cell_type": "code",
   "execution_count": 58,
   "metadata": {},
   "outputs": [],
   "source": [
    "# Created dummies for all categorical columns\n",
    "df_new = pd.get_dummies(df, drop_first = True)"
   ]
  },
  {
   "cell_type": "code",
   "execution_count": 62,
   "metadata": {},
   "outputs": [
    {
     "data": {
      "text/html": [
       "<div>\n",
       "<style scoped>\n",
       "    .dataframe tbody tr th:only-of-type {\n",
       "        vertical-align: middle;\n",
       "    }\n",
       "\n",
       "    .dataframe tbody tr th {\n",
       "        vertical-align: top;\n",
       "    }\n",
       "\n",
       "    .dataframe thead th {\n",
       "        text-align: right;\n",
       "    }\n",
       "</style>\n",
       "<table border=\"1\" class=\"dataframe\">\n",
       "  <thead>\n",
       "    <tr style=\"text-align: right;\">\n",
       "      <th></th>\n",
       "      <th>Lat</th>\n",
       "      <th>Long</th>\n",
       "      <th>Confirmed</th>\n",
       "      <th>Deaths</th>\n",
       "      <th>Recovered</th>\n",
       "      <th>Active</th>\n",
       "      <th>Country/Region_Albania</th>\n",
       "      <th>Country/Region_Algeria</th>\n",
       "      <th>Country/Region_Andorra</th>\n",
       "      <th>Country/Region_Angola</th>\n",
       "      <th>...</th>\n",
       "      <th>Date_2022-03-03</th>\n",
       "      <th>Date_2022-03-04</th>\n",
       "      <th>WHO Region_Americas</th>\n",
       "      <th>WHO Region_Eastern Mediterranean</th>\n",
       "      <th>WHO Region_Europe</th>\n",
       "      <th>WHO Region_South-East Asia</th>\n",
       "      <th>WHO Region_Western Pacific</th>\n",
       "      <th>Lat_new_Below Ave</th>\n",
       "      <th>Lat_new_Above Ave</th>\n",
       "      <th>Lat_new_High</th>\n",
       "    </tr>\n",
       "  </thead>\n",
       "  <tbody>\n",
       "    <tr>\n",
       "      <th>0</th>\n",
       "      <td>33.939110</td>\n",
       "      <td>67.709953</td>\n",
       "      <td>0</td>\n",
       "      <td>0</td>\n",
       "      <td>0</td>\n",
       "      <td>0</td>\n",
       "      <td>False</td>\n",
       "      <td>False</td>\n",
       "      <td>False</td>\n",
       "      <td>False</td>\n",
       "      <td>...</td>\n",
       "      <td>False</td>\n",
       "      <td>False</td>\n",
       "      <td>False</td>\n",
       "      <td>True</td>\n",
       "      <td>False</td>\n",
       "      <td>False</td>\n",
       "      <td>False</td>\n",
       "      <td>False</td>\n",
       "      <td>True</td>\n",
       "      <td>False</td>\n",
       "    </tr>\n",
       "    <tr>\n",
       "      <th>1</th>\n",
       "      <td>41.153300</td>\n",
       "      <td>20.168300</td>\n",
       "      <td>0</td>\n",
       "      <td>0</td>\n",
       "      <td>0</td>\n",
       "      <td>0</td>\n",
       "      <td>True</td>\n",
       "      <td>False</td>\n",
       "      <td>False</td>\n",
       "      <td>False</td>\n",
       "      <td>...</td>\n",
       "      <td>False</td>\n",
       "      <td>False</td>\n",
       "      <td>False</td>\n",
       "      <td>False</td>\n",
       "      <td>True</td>\n",
       "      <td>False</td>\n",
       "      <td>False</td>\n",
       "      <td>False</td>\n",
       "      <td>True</td>\n",
       "      <td>False</td>\n",
       "    </tr>\n",
       "    <tr>\n",
       "      <th>2</th>\n",
       "      <td>28.033900</td>\n",
       "      <td>1.659600</td>\n",
       "      <td>0</td>\n",
       "      <td>0</td>\n",
       "      <td>0</td>\n",
       "      <td>0</td>\n",
       "      <td>False</td>\n",
       "      <td>True</td>\n",
       "      <td>False</td>\n",
       "      <td>False</td>\n",
       "      <td>...</td>\n",
       "      <td>False</td>\n",
       "      <td>False</td>\n",
       "      <td>False</td>\n",
       "      <td>False</td>\n",
       "      <td>False</td>\n",
       "      <td>False</td>\n",
       "      <td>False</td>\n",
       "      <td>False</td>\n",
       "      <td>True</td>\n",
       "      <td>False</td>\n",
       "    </tr>\n",
       "    <tr>\n",
       "      <th>3</th>\n",
       "      <td>42.506300</td>\n",
       "      <td>1.521800</td>\n",
       "      <td>0</td>\n",
       "      <td>0</td>\n",
       "      <td>0</td>\n",
       "      <td>0</td>\n",
       "      <td>False</td>\n",
       "      <td>False</td>\n",
       "      <td>True</td>\n",
       "      <td>False</td>\n",
       "      <td>...</td>\n",
       "      <td>False</td>\n",
       "      <td>False</td>\n",
       "      <td>False</td>\n",
       "      <td>False</td>\n",
       "      <td>True</td>\n",
       "      <td>False</td>\n",
       "      <td>False</td>\n",
       "      <td>False</td>\n",
       "      <td>False</td>\n",
       "      <td>True</td>\n",
       "    </tr>\n",
       "    <tr>\n",
       "      <th>4</th>\n",
       "      <td>-11.202700</td>\n",
       "      <td>17.873900</td>\n",
       "      <td>0</td>\n",
       "      <td>0</td>\n",
       "      <td>0</td>\n",
       "      <td>0</td>\n",
       "      <td>False</td>\n",
       "      <td>False</td>\n",
       "      <td>False</td>\n",
       "      <td>True</td>\n",
       "      <td>...</td>\n",
       "      <td>False</td>\n",
       "      <td>False</td>\n",
       "      <td>False</td>\n",
       "      <td>False</td>\n",
       "      <td>False</td>\n",
       "      <td>False</td>\n",
       "      <td>False</td>\n",
       "      <td>False</td>\n",
       "      <td>False</td>\n",
       "      <td>False</td>\n",
       "    </tr>\n",
       "    <tr>\n",
       "      <th>...</th>\n",
       "      <td>...</td>\n",
       "      <td>...</td>\n",
       "      <td>...</td>\n",
       "      <td>...</td>\n",
       "      <td>...</td>\n",
       "      <td>...</td>\n",
       "      <td>...</td>\n",
       "      <td>...</td>\n",
       "      <td>...</td>\n",
       "      <td>...</td>\n",
       "      <td>...</td>\n",
       "      <td>...</td>\n",
       "      <td>...</td>\n",
       "      <td>...</td>\n",
       "      <td>...</td>\n",
       "      <td>...</td>\n",
       "      <td>...</td>\n",
       "      <td>...</td>\n",
       "      <td>...</td>\n",
       "      <td>...</td>\n",
       "      <td>...</td>\n",
       "    </tr>\n",
       "    <tr>\n",
       "      <th>214889</th>\n",
       "      <td>31.952200</td>\n",
       "      <td>35.233200</td>\n",
       "      <td>649971</td>\n",
       "      <td>5557</td>\n",
       "      <td>0</td>\n",
       "      <td>644414</td>\n",
       "      <td>False</td>\n",
       "      <td>False</td>\n",
       "      <td>False</td>\n",
       "      <td>False</td>\n",
       "      <td>...</td>\n",
       "      <td>False</td>\n",
       "      <td>True</td>\n",
       "      <td>False</td>\n",
       "      <td>True</td>\n",
       "      <td>False</td>\n",
       "      <td>False</td>\n",
       "      <td>False</td>\n",
       "      <td>False</td>\n",
       "      <td>True</td>\n",
       "      <td>False</td>\n",
       "    </tr>\n",
       "    <tr>\n",
       "      <th>214890</th>\n",
       "      <td>39.904200</td>\n",
       "      <td>116.407400</td>\n",
       "      <td>530</td>\n",
       "      <td>0</td>\n",
       "      <td>0</td>\n",
       "      <td>530</td>\n",
       "      <td>False</td>\n",
       "      <td>False</td>\n",
       "      <td>False</td>\n",
       "      <td>False</td>\n",
       "      <td>...</td>\n",
       "      <td>False</td>\n",
       "      <td>True</td>\n",
       "      <td>False</td>\n",
       "      <td>False</td>\n",
       "      <td>True</td>\n",
       "      <td>False</td>\n",
       "      <td>False</td>\n",
       "      <td>False</td>\n",
       "      <td>True</td>\n",
       "      <td>False</td>\n",
       "    </tr>\n",
       "    <tr>\n",
       "      <th>214891</th>\n",
       "      <td>15.552727</td>\n",
       "      <td>48.516388</td>\n",
       "      <td>11774</td>\n",
       "      <td>2135</td>\n",
       "      <td>0</td>\n",
       "      <td>9639</td>\n",
       "      <td>False</td>\n",
       "      <td>False</td>\n",
       "      <td>False</td>\n",
       "      <td>False</td>\n",
       "      <td>...</td>\n",
       "      <td>False</td>\n",
       "      <td>True</td>\n",
       "      <td>False</td>\n",
       "      <td>True</td>\n",
       "      <td>False</td>\n",
       "      <td>False</td>\n",
       "      <td>False</td>\n",
       "      <td>True</td>\n",
       "      <td>False</td>\n",
       "      <td>False</td>\n",
       "    </tr>\n",
       "    <tr>\n",
       "      <th>214892</th>\n",
       "      <td>-13.133897</td>\n",
       "      <td>27.849332</td>\n",
       "      <td>313613</td>\n",
       "      <td>3958</td>\n",
       "      <td>0</td>\n",
       "      <td>309655</td>\n",
       "      <td>False</td>\n",
       "      <td>False</td>\n",
       "      <td>False</td>\n",
       "      <td>False</td>\n",
       "      <td>...</td>\n",
       "      <td>False</td>\n",
       "      <td>True</td>\n",
       "      <td>False</td>\n",
       "      <td>False</td>\n",
       "      <td>False</td>\n",
       "      <td>False</td>\n",
       "      <td>False</td>\n",
       "      <td>False</td>\n",
       "      <td>False</td>\n",
       "      <td>False</td>\n",
       "    </tr>\n",
       "    <tr>\n",
       "      <th>214893</th>\n",
       "      <td>-19.015438</td>\n",
       "      <td>29.154857</td>\n",
       "      <td>238739</td>\n",
       "      <td>5397</td>\n",
       "      <td>0</td>\n",
       "      <td>233342</td>\n",
       "      <td>False</td>\n",
       "      <td>False</td>\n",
       "      <td>False</td>\n",
       "      <td>False</td>\n",
       "      <td>...</td>\n",
       "      <td>False</td>\n",
       "      <td>True</td>\n",
       "      <td>False</td>\n",
       "      <td>False</td>\n",
       "      <td>False</td>\n",
       "      <td>False</td>\n",
       "      <td>False</td>\n",
       "      <td>False</td>\n",
       "      <td>False</td>\n",
       "      <td>False</td>\n",
       "    </tr>\n",
       "  </tbody>\n",
       "</table>\n",
       "<p>213348 rows × 981 columns</p>\n",
       "</div>"
      ],
      "text/plain": [
       "              Lat        Long  Confirmed  Deaths  Recovered  Active   \n",
       "0       33.939110   67.709953          0       0          0       0  \\\n",
       "1       41.153300   20.168300          0       0          0       0   \n",
       "2       28.033900    1.659600          0       0          0       0   \n",
       "3       42.506300    1.521800          0       0          0       0   \n",
       "4      -11.202700   17.873900          0       0          0       0   \n",
       "...           ...         ...        ...     ...        ...     ...   \n",
       "214889  31.952200   35.233200     649971    5557          0  644414   \n",
       "214890  39.904200  116.407400        530       0          0     530   \n",
       "214891  15.552727   48.516388      11774    2135          0    9639   \n",
       "214892 -13.133897   27.849332     313613    3958          0  309655   \n",
       "214893 -19.015438   29.154857     238739    5397          0  233342   \n",
       "\n",
       "        Country/Region_Albania  Country/Region_Algeria   \n",
       "0                        False                   False  \\\n",
       "1                         True                   False   \n",
       "2                        False                    True   \n",
       "3                        False                   False   \n",
       "4                        False                   False   \n",
       "...                        ...                     ...   \n",
       "214889                   False                   False   \n",
       "214890                   False                   False   \n",
       "214891                   False                   False   \n",
       "214892                   False                   False   \n",
       "214893                   False                   False   \n",
       "\n",
       "        Country/Region_Andorra  Country/Region_Angola  ...  Date_2022-03-03   \n",
       "0                        False                  False  ...            False  \\\n",
       "1                        False                  False  ...            False   \n",
       "2                        False                  False  ...            False   \n",
       "3                         True                  False  ...            False   \n",
       "4                        False                   True  ...            False   \n",
       "...                        ...                    ...  ...              ...   \n",
       "214889                   False                  False  ...            False   \n",
       "214890                   False                  False  ...            False   \n",
       "214891                   False                  False  ...            False   \n",
       "214892                   False                  False  ...            False   \n",
       "214893                   False                  False  ...            False   \n",
       "\n",
       "        Date_2022-03-04  WHO Region_Americas   \n",
       "0                 False                False  \\\n",
       "1                 False                False   \n",
       "2                 False                False   \n",
       "3                 False                False   \n",
       "4                 False                False   \n",
       "...                 ...                  ...   \n",
       "214889             True                False   \n",
       "214890             True                False   \n",
       "214891             True                False   \n",
       "214892             True                False   \n",
       "214893             True                False   \n",
       "\n",
       "        WHO Region_Eastern Mediterranean  WHO Region_Europe   \n",
       "0                                   True              False  \\\n",
       "1                                  False               True   \n",
       "2                                  False              False   \n",
       "3                                  False               True   \n",
       "4                                  False              False   \n",
       "...                                  ...                ...   \n",
       "214889                              True              False   \n",
       "214890                             False               True   \n",
       "214891                              True              False   \n",
       "214892                             False              False   \n",
       "214893                             False              False   \n",
       "\n",
       "        WHO Region_South-East Asia  WHO Region_Western Pacific   \n",
       "0                            False                       False  \\\n",
       "1                            False                       False   \n",
       "2                            False                       False   \n",
       "3                            False                       False   \n",
       "4                            False                       False   \n",
       "...                            ...                         ...   \n",
       "214889                       False                       False   \n",
       "214890                       False                       False   \n",
       "214891                       False                       False   \n",
       "214892                       False                       False   \n",
       "214893                       False                       False   \n",
       "\n",
       "        Lat_new_Below Ave  Lat_new_Above Ave  Lat_new_High  \n",
       "0                   False               True         False  \n",
       "1                   False               True         False  \n",
       "2                   False               True         False  \n",
       "3                   False              False          True  \n",
       "4                   False              False         False  \n",
       "...                   ...                ...           ...  \n",
       "214889              False               True         False  \n",
       "214890              False               True         False  \n",
       "214891               True              False         False  \n",
       "214892              False              False         False  \n",
       "214893              False              False         False  \n",
       "\n",
       "[213348 rows x 981 columns]"
      ]
     },
     "execution_count": 62,
     "metadata": {},
     "output_type": "execute_result"
    }
   ],
   "source": [
    "df_new"
   ]
  },
  {
   "cell_type": "markdown",
   "metadata": {},
   "source": [
    "# Normalization"
   ]
  },
  {
   "cell_type": "code",
   "execution_count": 63,
   "metadata": {},
   "outputs": [],
   "source": [
    "# Range converts to: 0 to 1\n",
    "def norm_func(i): \n",
    "    x = (i-i.min())/(i.max()-i.min())\n",
    "    return(x)"
   ]
  },
  {
   "cell_type": "code",
   "execution_count": 65,
   "metadata": {},
   "outputs": [],
   "source": [
    "df_norm = norm_func(df_new['Lat'])"
   ]
  },
  {
   "cell_type": "code",
   "execution_count": 66,
   "metadata": {},
   "outputs": [
    {
     "data": {
      "text/plain": [
       "0         0.670406\n",
       "1         0.733364\n",
       "2         0.618873\n",
       "3         0.745171\n",
       "4         0.276461\n",
       "            ...   \n",
       "214889    0.653067\n",
       "214890    0.722463\n",
       "214891    0.509951\n",
       "214892    0.259608\n",
       "214893    0.208281\n",
       "Name: Lat, Length: 213348, dtype: float64"
      ]
     },
     "execution_count": 66,
     "metadata": {},
     "output_type": "execute_result"
    }
   ],
   "source": [
    "df_norm"
   ]
  },
  {
   "cell_type": "code",
   "execution_count": 67,
   "metadata": {},
   "outputs": [
    {
     "data": {
      "text/plain": [
       "count    211802.000000\n",
       "mean          0.558620\n",
       "std           0.218170\n",
       "min           0.000000\n",
       "25%           0.431919\n",
       "50%           0.573379\n",
       "75%           0.733809\n",
       "max           1.000000\n",
       "Name: Lat, dtype: float64"
      ]
     },
     "execution_count": 67,
     "metadata": {},
     "output_type": "execute_result"
    }
   ],
   "source": [
    "df_norm.describe()"
   ]
  }
 ],
 "metadata": {
  "kernelspec": {
   "display_name": "Python 3",
   "language": "python",
   "name": "python3"
  },
  "language_info": {
   "codemirror_mode": {
    "name": "ipython",
    "version": 3
   },
   "file_extension": ".py",
   "mimetype": "text/x-python",
   "name": "python",
   "nbconvert_exporter": "python",
   "pygments_lexer": "ipython3",
   "version": "3.8.10"
  }
 },
 "nbformat": 4,
 "nbformat_minor": 5
}
