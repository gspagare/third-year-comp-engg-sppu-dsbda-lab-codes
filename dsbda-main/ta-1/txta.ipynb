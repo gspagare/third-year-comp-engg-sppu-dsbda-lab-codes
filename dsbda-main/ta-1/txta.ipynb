{
 "cells": [
  {
   "cell_type": "markdown",
   "metadata": {
    "id": "4937436c"
   },
   "source": [
    "# Natural Langauage Processing (NLP)"
   ]
  },
  {
   "cell_type": "markdown",
   "metadata": {
    "id": "e1f77f3d"
   },
   "source": []
  },
  {
   "cell_type": "markdown",
   "metadata": {
    "id": "88694ff2"
   },
   "source": [
    "## Tokenization of words:\n",
    "\n",
    "We use the method word_tokenize() to split a sentence into words.         \n",
    "word tokenization becomes a crucial part of the text (string) to numeric data conversion"
   ]
  },
  {
   "cell_type": "code",
   "execution_count": 1,
   "metadata": {
    "executionInfo": {
     "elapsed": 2346,
     "status": "ok",
     "timestamp": 1681897147029,
     "user": {
      "displayName": "Aishwarya Shinde",
      "userId": "13687257978232432507"
     },
     "user_tz": -330
    },
    "id": "a6f1cebd"
   },
   "outputs": [],
   "source": [
    "import nltk\n",
    "#nltk.download()"
   ]
  },
  {
   "cell_type": "code",
   "execution_count": 2,
   "metadata": {
    "colab": {
     "base_uri": "https://localhost:8080/"
    },
    "executionInfo": {
     "elapsed": 1220,
     "status": "ok",
     "timestamp": 1681897163684,
     "user": {
      "displayName": "Aishwarya Shinde",
      "userId": "13687257978232432507"
     },
     "user_tz": -330
    },
    "id": "of0iiwZItlrw",
    "outputId": "35df0a5c-8d58-4437-ac12-a9c78a67e7ff"
   },
   "outputs": [
    {
     "name": "stderr",
     "output_type": "stream",
     "text": [
      "[nltk_data] Downloading package punkt to /home/sanket/nltk_data...\n",
      "[nltk_data]   Package punkt is already up-to-date!\n"
     ]
    },
    {
     "data": {
      "text/plain": [
       "True"
      ]
     },
     "execution_count": 2,
     "metadata": {},
     "output_type": "execute_result"
    }
   ],
   "source": [
    "import nltk\n",
    "nltk.download('punkt')"
   ]
  },
  {
   "cell_type": "markdown",
   "metadata": {
    "id": "cc395453"
   },
   "source": [
    "## Word Tokenizer"
   ]
  },
  {
   "cell_type": "code",
   "execution_count": 3,
   "metadata": {
    "colab": {
     "base_uri": "https://localhost:8080/"
    },
    "executionInfo": {
     "elapsed": 9,
     "status": "ok",
     "timestamp": 1681897174400,
     "user": {
      "displayName": "Aishwarya Shinde",
      "userId": "13687257978232432507"
     },
     "user_tz": -330
    },
    "id": "30e7386f",
    "outputId": "a978895e-e5bc-4637-ea53-7d370c346dd3"
   },
   "outputs": [
    {
     "name": "stdout",
     "output_type": "stream",
     "text": [
      "['Welcome', 'to', 'the', 'Python', 'Programming', 'at', 'Indeed', 'Insprining', 'Infotech']\n"
     ]
    }
   ],
   "source": [
    "import nltk\n",
    "from nltk.tokenize import word_tokenize\n",
    "text = \"Welcome to the Python Programming at Indeed Insprining Infotech\"\n",
    "print(word_tokenize(text))"
   ]
  },
  {
   "cell_type": "markdown",
   "metadata": {
    "id": "c9071bd0"
   },
   "source": [
    "## Sentence Tokenizer"
   ]
  },
  {
   "cell_type": "code",
   "execution_count": 4,
   "metadata": {
    "colab": {
     "base_uri": "https://localhost:8080/"
    },
    "executionInfo": {
     "elapsed": 536,
     "status": "ok",
     "timestamp": 1681897183650,
     "user": {
      "displayName": "Aishwarya Shinde",
      "userId": "13687257978232432507"
     },
     "user_tz": -330
    },
    "id": "c00a2c90",
    "outputId": "5aaa3611-31ea-4984-efca-6b8bf3380cb9",
    "scrolled": true
   },
   "outputs": [
    {
     "name": "stdout",
     "output_type": "stream",
     "text": [
      "['Hello Everyone.', 'Welcome to the Python Programming']\n"
     ]
    }
   ],
   "source": [
    "from nltk.tokenize import sent_tokenize\n",
    "text = \"Hello Everyone. Welcome to the Python Programming\"\n",
    "print(sent_tokenize(text))"
   ]
  },
  {
   "cell_type": "markdown",
   "metadata": {
    "id": "3512ea5b"
   },
   "source": []
  },
  {
   "cell_type": "code",
   "execution_count": 5,
   "metadata": {
    "colab": {
     "base_uri": "https://localhost:8080/"
    },
    "executionInfo": {
     "elapsed": 500,
     "status": "ok",
     "timestamp": 1681897209249,
     "user": {
      "displayName": "Aishwarya Shinde",
      "userId": "13687257978232432507"
     },
     "user_tz": -330
    },
    "id": "484f9a1a",
    "outputId": "4e8fa6d4-d2f5-4aee-8bde-3744e2cf9734"
   },
   "outputs": [
    {
     "name": "stdout",
     "output_type": "stream",
     "text": [
      "clean\n",
      "clean\n",
      "clean\n",
      "clean\n"
     ]
    }
   ],
   "source": [
    "from nltk.stem import PorterStemmer\n",
    "# words = ['Wait','Waiting','Waited','Waits']\n",
    "words = ['clean','cleaning','cleans','cleaned']\n",
    "ps = PorterStemmer()\n",
    "for w in words:\n",
    "    words=ps.stem(w)\n",
    "    print(words)"
   ]
  },
  {
   "cell_type": "markdown",
   "metadata": {
    "id": "a6a26280"
   },
   "source": []
  },
  {
   "cell_type": "markdown",
   "metadata": {
    "id": "f6c220c5"
   },
   "source": [
    "## Stemming Code:"
   ]
  },
  {
   "cell_type": "code",
   "execution_count": 6,
   "metadata": {
    "colab": {
     "base_uri": "https://localhost:8080/"
    },
    "executionInfo": {
     "elapsed": 479,
     "status": "ok",
     "timestamp": 1681897226308,
     "user": {
      "displayName": "Aishwarya Shinde",
      "userId": "13687257978232432507"
     },
     "user_tz": -330
    },
    "id": "757a2a87",
    "outputId": "06f0d42b-037c-4e3a-a2e7-cc53adec6422"
   },
   "outputs": [
    {
     "name": "stdout",
     "output_type": "stream",
     "text": [
      "Stemming for  studies is studi\n",
      "Stemming for  studying is studi\n",
      "Stemming for  floors is floor\n",
      "Stemming for  cry is cri\n"
     ]
    }
   ],
   "source": [
    "import nltk\n",
    "from nltk.stem.porter import PorterStemmer\n",
    "porter_stemmer = PorterStemmer()\n",
    "text  = \"studies studying floors cry\"\n",
    "tokenization = nltk.word_tokenize(text)\n",
    "for w in tokenization:\n",
    "    print('Stemming for ', w,'is',porter_stemmer.stem(w))"
   ]
  },
  {
   "cell_type": "markdown",
   "metadata": {
    "id": "af1028ed"
   },
   "source": [
    "## lemmatization Code:"
   ]
  },
  {
   "cell_type": "code",
   "execution_count": 7,
   "metadata": {
    "colab": {
     "base_uri": "https://localhost:8080/"
    },
    "executionInfo": {
     "elapsed": 498,
     "status": "ok",
     "timestamp": 1681897238913,
     "user": {
      "displayName": "Aishwarya Shinde",
      "userId": "13687257978232432507"
     },
     "user_tz": -330
    },
    "id": "Z1b39DQqtz27",
    "outputId": "83df0852-72f7-49ff-e3af-d6903d8fd00d"
   },
   "outputs": [
    {
     "name": "stderr",
     "output_type": "stream",
     "text": [
      "[nltk_data] Downloading package wordnet to /home/sanket/nltk_data...\n",
      "[nltk_data]   Package wordnet is already up-to-date!\n",
      "[nltk_data] Downloading package omw-1.4 to /home/sanket/nltk_data...\n",
      "[nltk_data]   Package omw-1.4 is already up-to-date!\n"
     ]
    },
    {
     "data": {
      "text/plain": [
       "True"
      ]
     },
     "execution_count": 7,
     "metadata": {},
     "output_type": "execute_result"
    }
   ],
   "source": [
    "import nltk\n",
    "nltk.download('wordnet')\n",
    "nltk.download('omw-1.4')"
   ]
  },
  {
   "cell_type": "code",
   "execution_count": 8,
   "metadata": {
    "colab": {
     "base_uri": "https://localhost:8080/"
    },
    "executionInfo": {
     "elapsed": 1629,
     "status": "ok",
     "timestamp": 1681897243384,
     "user": {
      "displayName": "Aishwarya Shinde",
      "userId": "13687257978232432507"
     },
     "user_tz": -330
    },
    "id": "d2525888",
    "outputId": "8df98fb3-800f-4420-c44d-8de1972806df"
   },
   "outputs": [
    {
     "name": "stdout",
     "output_type": "stream",
     "text": [
      "Lemma for  studies is study\n",
      "Lemma for  study is study\n",
      "Lemma for  floors is floor\n",
      "Lemma for  cry is cry\n"
     ]
    }
   ],
   "source": [
    "import nltk\n",
    "from nltk.stem import WordNetLemmatizer\n",
    "Wordnet_lemmatizer = WordNetLemmatizer()\n",
    "text  = \"studies study floors cry\"\n",
    "tokenization = nltk.word_tokenize(text)\n",
    "for w in tokenization:\n",
    "    print('Lemma for ', w,'is',Wordnet_lemmatizer.lemmatize(w))"
   ]
  },
  {
   "cell_type": "markdown",
   "metadata": {
    "id": "106eac46"
   },
   "source": [
    "## NLTK stop words\n",
    "\n",
    "**Text may contain stop words like 'the','is','are','a'. Stop words can be filterd from the text to be processed.**"
   ]
  },
  {
   "cell_type": "code",
   "execution_count": 13,
   "metadata": {
    "colab": {
     "base_uri": "https://localhost:8080/"
    },
    "executionInfo": {
     "elapsed": 527,
     "status": "ok",
     "timestamp": 1681897249872,
     "user": {
      "displayName": "Aishwarya Shinde",
      "userId": "13687257978232432507"
     },
     "user_tz": -330
    },
    "id": "IJR_5QtwuDsa",
    "outputId": "cd928421-5526-495f-a130-aa28c5322b1a"
   },
   "outputs": [
    {
     "name": "stderr",
     "output_type": "stream",
     "text": [
      "[nltk_data] Error loading WordCloud: Package 'WordCloud' not found in\n",
      "[nltk_data]     index\n"
     ]
    },
    {
     "data": {
      "text/plain": [
       "False"
      ]
     },
     "execution_count": 13,
     "metadata": {},
     "output_type": "execute_result"
    }
   ],
   "source": [
    "nltk.download('stopwords')"
   ]
  },
  {
   "cell_type": "code",
   "execution_count": 10,
   "metadata": {
    "colab": {
     "base_uri": "https://localhost:8080/"
    },
    "executionInfo": {
     "elapsed": 7,
     "status": "ok",
     "timestamp": 1681897255057,
     "user": {
      "displayName": "Aishwarya Shinde",
      "userId": "13687257978232432507"
     },
     "user_tz": -330
    },
    "id": "ae25d08f",
    "outputId": "63ccf7ee-62de-405f-ca3b-f88c4c790e69"
   },
   "outputs": [
    {
     "name": "stdout",
     "output_type": "stream",
     "text": [
      "['AI', 'introduced', 'year', '1956', 'gained', 'popularity', 'recently', '.']\n"
     ]
    }
   ],
   "source": [
    "from nltk.tokenize import sent_tokenize, word_tokenize\n",
    "from nltk.corpus import stopwords\n",
    "\n",
    "data = 'AI was introduced in the year 1956 but it gained popularity recently.'\n",
    "stopwords = set(stopwords.words('english'))\n",
    "words = word_tokenize(data)\n",
    "wordsFiltered = []\n",
    "\n",
    "for w in words:\n",
    "    if w not in stopwords:\n",
    "        wordsFiltered.append(w)\n",
    "        \n",
    "print(wordsFiltered)"
   ]
  },
  {
   "cell_type": "code",
   "execution_count": 11,
   "metadata": {
    "colab": {
     "base_uri": "https://localhost:8080/"
    },
    "executionInfo": {
     "elapsed": 8,
     "status": "ok",
     "timestamp": 1681897271884,
     "user": {
      "displayName": "Aishwarya Shinde",
      "userId": "13687257978232432507"
     },
     "user_tz": -330
    },
    "id": "b3df1cb3",
    "outputId": "caf94a46-6329-4752-a3a6-6006722ebafe"
   },
   "outputs": [
    {
     "name": "stdout",
     "output_type": "stream",
     "text": [
      "179\n",
      "{'below', 'm', 'own', 've', 'had', 'being', 'between', 'mustn', 'same', 'we', 'off', 'to', \"hasn't\", 'hasn', 'they', 'doing', 'above', 'too', 'am', 'but', 'not', 'its', 'you', 'against', 'our', \"she's\", 'it', \"didn't\", 'and', 'after', 'the', 'hers', \"won't\", 'should', 'through', \"aren't\", 'her', 'ain', 'theirs', \"haven't\", 'over', 'wasn', 'do', 'if', 'all', 'a', 'on', 'here', 'how', \"you'd\", 'or', 'which', \"needn't\", \"weren't\", 'them', \"don't\", 'yourselves', 'can', 'ourselves', 'ours', 'more', \"shouldn't\", 'my', 'isn', 'before', 'both', 'then', 'in', 'down', 'shan', 'only', 'haven', 'from', \"wouldn't\", 'been', \"couldn't\", 'weren', 'are', 'few', 'shouldn', 'hadn', 'don', \"isn't\", 'doesn', \"you'll\", 'myself', 'some', \"mightn't\", \"shan't\", 'as', 'with', 's', 'ma', 'themselves', 'just', 'wouldn', 'nor', 'him', 'have', 'having', 'has', 'no', 'be', \"hadn't\", \"mustn't\", 'most', 'there', 'does', 'y', 'herself', 'i', 'up', 'will', 'this', 'd', 'any', 'about', \"you're\", \"it's\", 'an', 'was', 'until', 'other', \"doesn't\", 'so', 'than', 'for', 'yourself', 'at', 'once', 'that', 'whom', 'were', 're', 'when', 'each', 'o', 'under', 'those', 'into', \"wasn't\", 'his', 'while', 'by', 'their', 'didn', 'needn', 'now', 'aren', 'll', \"that'll\", 'your', 'himself', 'of', \"you've\", 'who', 't', \"should've\", 'she', 'during', 'such', 'further', 'very', 'yours', 'mightn', 'me', 'these', 'did', 'why', 'is', 'where', 'won', 'because', 'out', 'what', 'again', 'he', 'itself', 'couldn'}\n"
     ]
    }
   ],
   "source": [
    "print(len(stopwords))\n",
    "print(stopwords)"
   ]
  },
  {
   "cell_type": "code",
   "execution_count": null,
   "metadata": {},
   "outputs": [],
   "source": []
  },
  {
   "cell_type": "markdown",
   "metadata": {
    "id": "0798460f"
   },
   "source": []
  },
  {
   "cell_type": "code",
   "execution_count": 14,
   "metadata": {
    "executionInfo": {
     "elapsed": 1153,
     "status": "ok",
     "timestamp": 1681897280071,
     "user": {
      "displayName": "Aishwarya Shinde",
      "userId": "13687257978232432507"
     },
     "user_tz": -330
    },
    "id": "2c86e8eb"
   },
   "outputs": [],
   "source": [
    "import nltk\n",
    "from nltk.tokenize import word_tokenize\n",
    "from nltk.corpus import stopwords\n",
    "from nltk.stem import PorterStemmer, WordNetLemmatizer\n",
    "from nltk import pos_tag"
   ]
  },
  {
   "cell_type": "code",
   "execution_count": 16,
   "metadata": {
    "executionInfo": {
     "elapsed": 493,
     "status": "ok",
     "timestamp": 1681897329709,
     "user": {
      "displayName": "Aishwarya Shinde",
      "userId": "13687257978232432507"
     },
     "user_tz": -330
    },
    "id": "984ab773"
   },
   "outputs": [],
   "source": [
    "# Example document\n",
    "document = \"This is an example document that we will use to demonstrate document preprocessing.\""
   ]
  },
  {
   "cell_type": "code",
   "execution_count": 17,
   "metadata": {
    "executionInfo": {
     "elapsed": 5,
     "status": "ok",
     "timestamp": 1681897332433,
     "user": {
      "displayName": "Aishwarya Shinde",
      "userId": "13687257978232432507"
     },
     "user_tz": -330
    },
    "id": "e2d87a82"
   },
   "outputs": [],
   "source": [
    "# Tokenization\n",
    "tokens = word_tokenize(document)"
   ]
  },
  {
   "cell_type": "code",
   "execution_count": 18,
   "metadata": {
    "colab": {
     "base_uri": "https://localhost:8080/"
    },
    "executionInfo": {
     "elapsed": 8,
     "status": "ok",
     "timestamp": 1681897334711,
     "user": {
      "displayName": "Aishwarya Shinde",
      "userId": "13687257978232432507"
     },
     "user_tz": -330
    },
    "id": "ca8b7015",
    "outputId": "d559b940-90ff-42e5-861f-60e3554dbefa"
   },
   "outputs": [
    {
     "data": {
      "text/plain": [
       "['This',\n",
       " 'is',\n",
       " 'an',\n",
       " 'example',\n",
       " 'document',\n",
       " 'that',\n",
       " 'we',\n",
       " 'will',\n",
       " 'use',\n",
       " 'to',\n",
       " 'demonstrate',\n",
       " 'document',\n",
       " 'preprocessing',\n",
       " '.']"
      ]
     },
     "execution_count": 18,
     "metadata": {},
     "output_type": "execute_result"
    }
   ],
   "source": [
    "tokens"
   ]
  },
  {
   "cell_type": "code",
   "execution_count": 19,
   "metadata": {
    "colab": {
     "base_uri": "https://localhost:8080/"
    },
    "executionInfo": {
     "elapsed": 6,
     "status": "ok",
     "timestamp": 1681897337172,
     "user": {
      "displayName": "Aishwarya Shinde",
      "userId": "13687257978232432507"
     },
     "user_tz": -330
    },
    "id": "0e184c68",
    "outputId": "5d94ad6d-80fe-452e-c25a-167ae21e21fc"
   },
   "outputs": [
    {
     "name": "stderr",
     "output_type": "stream",
     "text": [
      "[nltk_data] Downloading package averaged_perceptron_tagger to\n",
      "[nltk_data]     /home/sanket/nltk_data...\n",
      "[nltk_data]   Package averaged_perceptron_tagger is already up-to-\n",
      "[nltk_data]       date!\n"
     ]
    },
    {
     "data": {
      "text/plain": [
       "True"
      ]
     },
     "execution_count": 19,
     "metadata": {},
     "output_type": "execute_result"
    }
   ],
   "source": [
    "import nltk\n",
    "nltk.download('averaged_perceptron_tagger')"
   ]
  },
  {
   "cell_type": "code",
   "execution_count": 20,
   "metadata": {
    "executionInfo": {
     "elapsed": 4,
     "status": "ok",
     "timestamp": 1681897340532,
     "user": {
      "displayName": "Aishwarya Shinde",
      "userId": "13687257978232432507"
     },
     "user_tz": -330
    },
    "id": "cc62bc9b"
   },
   "outputs": [],
   "source": [
    "# POS tagging\n",
    "#These tags can indicate whether a word is a noun, verb, adjective, adverb, preposition, conjunction, or other grammatical category.\n",
    "pos_tags = pos_tag(tokens)"
   ]
  },
  {
   "cell_type": "code",
   "execution_count": 21,
   "metadata": {
    "colab": {
     "base_uri": "https://localhost:8080/"
    },
    "executionInfo": {
     "elapsed": 6,
     "status": "ok",
     "timestamp": 1681897343119,
     "user": {
      "displayName": "Aishwarya Shinde",
      "userId": "13687257978232432507"
     },
     "user_tz": -330
    },
    "id": "_O5mmUuouPid",
    "outputId": "5d37fac2-30e8-4d44-85e5-ff6cccba7959"
   },
   "outputs": [
    {
     "data": {
      "text/plain": [
       "[('This', 'DT'),\n",
       " ('is', 'VBZ'),\n",
       " ('an', 'DT'),\n",
       " ('example', 'NN'),\n",
       " ('document', 'NN'),\n",
       " ('that', 'IN'),\n",
       " ('we', 'PRP'),\n",
       " ('will', 'MD'),\n",
       " ('use', 'VB'),\n",
       " ('to', 'TO'),\n",
       " ('demonstrate', 'VB'),\n",
       " ('document', 'NN'),\n",
       " ('preprocessing', 'NN'),\n",
       " ('.', '.')]"
      ]
     },
     "execution_count": 21,
     "metadata": {},
     "output_type": "execute_result"
    }
   ],
   "source": [
    "pos_tags\n",
    "# DT for determiner , NN for noun , VBD for past tense word , IN for preprosition\n",
    "#VBZ: verb, 3rd person singular present tense (e.g. \"runs\")\n",
    "# VB: verb, base form (e.g. \"run\")\n",
    "# PRP: personal pronoun (e.g. \"he\", \"she\", \"it\", \"they\")\n",
    "# MD: modal verb (e.g. \"can\", \"should\", \"will\")\n",
    "# TO: to (e.g. \"to run\", \"to go\")\n",
    "# Here are some additional tags that you may find useful:\n",
    "\n",
    "# NN: noun, singular or mass (e.g. \"cat\", \"dog\", \"water\")\n",
    "# NNS: noun, plural (e.g. \"cats\", \"dogs\")\n",
    "# JJ: adjective (e.g. \"happy\", \"blue\")\n",
    "# RB: adverb (e.g. \"quickly\", \"very\")\n",
    "# IN: preposition or subordinating conjunction (e.g. \"in\", \"on\", \"because\")"
   ]
  },
  {
   "cell_type": "code",
   "execution_count": 22,
   "metadata": {
    "executionInfo": {
     "elapsed": 6,
     "status": "ok",
     "timestamp": 1681897344909,
     "user": {
      "displayName": "Aishwarya Shinde",
      "userId": "13687257978232432507"
     },
     "user_tz": -330
    },
    "id": "86c4662e"
   },
   "outputs": [],
   "source": [
    "# Stopwords removal\n",
    "stop_words = set(stopwords.words('english'))\n",
    "filtered_tokens = [word for word in tokens if not word.lower() in stop_words]"
   ]
  },
  {
   "cell_type": "code",
   "execution_count": 23,
   "metadata": {
    "executionInfo": {
     "elapsed": 6,
     "status": "ok",
     "timestamp": 1681897348549,
     "user": {
      "displayName": "Aishwarya Shinde",
      "userId": "13687257978232432507"
     },
     "user_tz": -330
    },
    "id": "8aabf51c"
   },
   "outputs": [],
   "source": [
    "# Stemming\n",
    "ps = PorterStemmer()\n",
    "stemmed_tokens = [ps.stem(word) for word in filtered_tokens]"
   ]
  },
  {
   "cell_type": "code",
   "execution_count": 24,
   "metadata": {
    "executionInfo": {
     "elapsed": 4,
     "status": "ok",
     "timestamp": 1681897351206,
     "user": {
      "displayName": "Aishwarya Shinde",
      "userId": "13687257978232432507"
     },
     "user_tz": -330
    },
    "id": "4a6f5953"
   },
   "outputs": [],
   "source": [
    "# Lemmatization\n",
    "wnl = WordNetLemmatizer()\n",
    "lemmatized_tokens = [wnl.lemmatize(word) for word in filtered_tokens]"
   ]
  },
  {
   "cell_type": "code",
   "execution_count": 25,
   "metadata": {
    "colab": {
     "base_uri": "https://localhost:8080/"
    },
    "executionInfo": {
     "elapsed": 902,
     "status": "ok",
     "timestamp": 1681897356915,
     "user": {
      "displayName": "Aishwarya Shinde",
      "userId": "13687257978232432507"
     },
     "user_tz": -330
    },
    "id": "5cd5d204",
    "outputId": "8f30b6f6-fc48-4569-a6e1-c414aabb1371"
   },
   "outputs": [
    {
     "name": "stdout",
     "output_type": "stream",
     "text": [
      "Tokens:  ['This', 'is', 'an', 'example', 'document', 'that', 'we', 'will', 'use', 'to', 'demonstrate', 'document', 'preprocessing', '.']\n",
      "Filtered tokens:  ['example', 'document', 'use', 'demonstrate', 'document', 'preprocessing', '.']\n",
      "Stemmed tokens:  ['exampl', 'document', 'use', 'demonstr', 'document', 'preprocess', '.']\n",
      "Lemmatized tokens:  ['example', 'document', 'use', 'demonstrate', 'document', 'preprocessing', '.']\n"
     ]
    }
   ],
   "source": [
    "# Print the results\n",
    "print(\"Tokens: \", tokens)\n",
    "# print(\"POS tags: \", pos_tags)\n",
    "print(\"Filtered tokens: \", filtered_tokens)\n",
    "print(\"Stemmed tokens: \", stemmed_tokens)\n",
    "print(\"Lemmatized tokens: \", lemmatized_tokens)\n",
    "#NLTK is capable of performing all the document preprocessing methods that you have mentioned."
   ]
  },
  {
   "cell_type": "markdown",
   "metadata": {
    "id": "6ca1a978"
   },
   "source": [
    "## Text Analytics\n"
   ]
  },
  {
   "cell_type": "code",
   "execution_count": 26,
   "metadata": {
    "id": "375692a0"
   },
   "outputs": [],
   "source": [
    "import math\n",
    "from collections import Counter"
   ]
  },
  {
   "cell_type": "code",
   "execution_count": 27,
   "metadata": {
    "id": "uX0WL3Ma4HTZ"
   },
   "outputs": [],
   "source": [
    "# Sample corpus of documents\n",
    "corpus = [\n",
    "    'The quick brown fox jumps over the lazy dog',\n",
    "    'The brown fox is quick',\n",
    "    'The lazy dog is sleeping'\n",
    "]"
   ]
  },
  {
   "cell_type": "code",
   "execution_count": 28,
   "metadata": {
    "id": "9iNWSB034S6I"
   },
   "outputs": [],
   "source": [
    "# Tokenize the documents\n",
    "tokenized_docs = [doc.lower().split() for doc in corpus]"
   ]
  },
  {
   "cell_type": "code",
   "execution_count": 29,
   "metadata": {
    "id": "TO8oDyF_4VR4"
   },
   "outputs": [],
   "source": [
    "# Count the term frequency for each document\n",
    "tf_docs = [Counter(tokens) for tokens in tokenized_docs]"
   ]
  },
  {
   "cell_type": "code",
   "execution_count": 30,
   "metadata": {
    "id": "mwbYVp9x4Y-B"
   },
   "outputs": [],
   "source": [
    "# Calculate the inverse document frequency for each term\n",
    "n_docs = len(corpus)\n",
    "idf = {}\n",
    "for tokens in tokenized_docs:\n",
    "    for token in set(tokens):\n",
    "        idf[token] = idf.get(token, 0) + 1\n",
    "for token in idf:\n",
    "    idf[token] = math.log(n_docs / idf[token])"
   ]
  },
  {
   "cell_type": "code",
   "execution_count": 31,
   "metadata": {
    "id": "QF1Si3vv4bCE"
   },
   "outputs": [],
   "source": [
    "# Calculate the TF-IDF weights for each document\n",
    "tfidf_docs = []\n",
    "for tf_doc in tf_docs:\n",
    "    tfidf_doc = {}\n",
    "    for token, freq in tf_doc.items():\n",
    "        tfidf_doc[token] = freq * idf[token]\n",
    "    tfidf_docs.append(tfidf_doc)\n"
   ]
  },
  {
   "cell_type": "code",
   "execution_count": 32,
   "metadata": {
    "colab": {
     "base_uri": "https://localhost:8080/"
    },
    "executionInfo": {
     "elapsed": 396,
     "status": "ok",
     "timestamp": 1678705613598,
     "user": {
      "displayName": "Aishwarya Shinde",
      "userId": "13687257978232432507"
     },
     "user_tz": -330
    },
    "id": "cWDMLXpP4cZu",
    "outputId": "fd841335-8e6c-4cbc-be1c-ab5228a915e0",
    "scrolled": true
   },
   "outputs": [
    {
     "name": "stdout",
     "output_type": "stream",
     "text": [
      "Document 1: {'the': 0.0, 'quick': 0.4054651081081644, 'brown': 0.4054651081081644, 'fox': 0.4054651081081644, 'jumps': 1.0986122886681098, 'over': 1.0986122886681098, 'lazy': 0.4054651081081644, 'dog': 0.4054651081081644}\n",
      "Document 2: {'the': 0.0, 'brown': 0.4054651081081644, 'fox': 0.4054651081081644, 'is': 0.4054651081081644, 'quick': 0.4054651081081644}\n",
      "Document 3: {'the': 0.0, 'lazy': 0.4054651081081644, 'dog': 0.4054651081081644, 'is': 0.4054651081081644, 'sleeping': 1.0986122886681098}\n"
     ]
    }
   ],
   "source": [
    "# Print the resulting TF-IDF representation for each document\n",
    "for i, tfidf_doc in enumerate(tfidf_docs):\n",
    "    print(f\"Document {i+1}: {tfidf_doc}\")"
   ]
  },
  {
   "cell_type": "markdown",
   "metadata": {
    "id": "FOSjIVpw4u9r"
   },
   "source": []
  },
  {
   "cell_type": "code",
   "execution_count": null,
   "metadata": {
    "id": "No6doLX64dTF"
   },
   "outputs": [],
   "source": []
  }
 ],
 "metadata": {
  "colab": {
   "provenance": []
  },
  "kernelspec": {
   "display_name": "Python 3",
   "language": "python",
   "name": "python3"
  },
  "language_info": {
   "codemirror_mode": {
    "name": "ipython",
    "version": 3
   },
   "file_extension": ".py",
   "mimetype": "text/x-python",
   "name": "python",
   "nbconvert_exporter": "python",
   "pygments_lexer": "ipython3",
   "version": "3.8.10"
  }
 },
 "nbformat": 4,
 "nbformat_minor": 5
}
